{
  "nbformat": 4,
  "nbformat_minor": 0,
  "metadata": {
    "colab": {
      "provenance": []
    },
    "kernelspec": {
      "name": "python3",
      "display_name": "Python 3"
    },
    "language_info": {
      "name": "python"
    }
  },
  "cells": [
    {
      "cell_type": "code",
      "execution_count": 1,
      "metadata": {
        "id": "6H7dXMnh8xx8"
      },
      "outputs": [],
      "source": [
        "import pandas as pd\n",
        "import numpy as np"
      ]
    },
    {
      "cell_type": "code",
      "source": [
        "import matplotlib.pyplot as plt\n",
        "%matplotlib inline\n"
      ],
      "metadata": {
        "id": "V19ZOKtk9z_g"
      },
      "execution_count": 66,
      "outputs": []
    },
    {
      "cell_type": "code",
      "source": [
        "from sklearn.datasets import load_digits\n",
        "from sklearn.decomposition import FactorAnalysis"
      ],
      "metadata": {
        "id": "1728gPNP9NtH"
      },
      "execution_count": 2,
      "outputs": []
    },
    {
      "cell_type": "code",
      "source": [
        "# warnings\n",
        "import warnings\n",
        "warnings.filterwarnings('ignore')"
      ],
      "metadata": {
        "id": "TQqlQiL-Ca1k"
      },
      "execution_count": 3,
      "outputs": []
    },
    {
      "cell_type": "code",
      "source": [
        "def check_missing(df):\n",
        "    \"\"\"\n",
        "    Returna uma Series com o percentual de missing data em cada coluna. \n",
        "    \"\"\"\n",
        "    import pandas\n",
        "    if isinstance(df, pandas.core.frame.DataFrame):\n",
        "        missing = (((df.isnull().sum()/df.shape[0])*100).round(2)).sort_values(ascending = False)\n",
        "        return missing\n",
        "    return -1\n"
      ],
      "metadata": {
        "id": "E0XYSTfcA7v8"
      },
      "execution_count": 4,
      "outputs": []
    },
    {
      "cell_type": "code",
      "source": [
        "def check_duplicate_lines(data_frame):\n",
        "    if data_frame.shape[0]!=data_frame.drop_duplicates().shape[0]:\n",
        "        duplicate_lines = dfata_frame.shape[0]-data_frame.drop_duplicates().shape[0]\n",
        "        return f'{duplicated_lines} duplicate lines'\n",
        "    return '0 duplicate lines'\n"
      ],
      "metadata": {
        "id": "SaoeIe3ICMqG"
      },
      "execution_count": 5,
      "outputs": []
    },
    {
      "cell_type": "code",
      "source": [
        "def show_percentage_missing(df):\n",
        "    import matplotlib.pyplot as plt\n",
        "    \n",
        "    \"Mostra o percentual de missing em cada coluna graficamente.\"\n",
        "    missing = check_missing(df)\n",
        "    plt.figure(figsize = (10, 15))\n",
        "    plt.barh(y = missing.index, width = missing.values, color = 'darkgray', height = 0.7, align = 'edge')\n",
        "    plt.xlabel('% of missing values', size = 10)\n",
        "    plt.ylabel('Columns', size = 10)\n",
        "    plt.title('Missing Values', fontdict = {'color':'gray', 'weight':'bold', 'size': 12})\n",
        "    plt.grid(alpha = 0.5)\n",
        "    plt.show()\n",
        "    "
      ],
      "metadata": {
        "id": "33afZQHIBAGs"
      },
      "execution_count": 6,
      "outputs": []
    },
    {
      "cell_type": "code",
      "source": [
        "pip install factor_analyzer==0.3.2"
      ],
      "metadata": {
        "colab": {
          "base_uri": "https://localhost:8080/"
        },
        "id": "ib9Y9LHn9OLu",
        "outputId": "f37bb8b8-224d-458e-8612-32fd62484677"
      },
      "execution_count": 7,
      "outputs": [
        {
          "output_type": "stream",
          "name": "stdout",
          "text": [
            "Looking in indexes: https://pypi.org/simple, https://us-python.pkg.dev/colab-wheels/public/simple/\n",
            "Collecting factor_analyzer==0.3.2\n",
            "  Downloading factor_analyzer-0.3.2.tar.gz (40 kB)\n",
            "\u001b[2K     \u001b[90m━━━━━━━━━━━━━━━━━━━━━━━━━━━━━━━━━━━━━━━━\u001b[0m \u001b[32m40.1/40.1 KB\u001b[0m \u001b[31m4.0 MB/s\u001b[0m eta \u001b[36m0:00:00\u001b[0m\n",
            "\u001b[?25h  Preparing metadata (setup.py) ... \u001b[?25l\u001b[?25hdone\n",
            "Requirement already satisfied: pandas in /usr/local/lib/python3.8/dist-packages (from factor_analyzer==0.3.2) (1.3.5)\n",
            "Requirement already satisfied: scipy in /usr/local/lib/python3.8/dist-packages (from factor_analyzer==0.3.2) (1.7.3)\n",
            "Requirement already satisfied: numpy in /usr/local/lib/python3.8/dist-packages (from factor_analyzer==0.3.2) (1.21.6)\n",
            "Requirement already satisfied: scikit-learn in /usr/local/lib/python3.8/dist-packages (from factor_analyzer==0.3.2) (1.0.2)\n",
            "Requirement already satisfied: python-dateutil>=2.7.3 in /usr/local/lib/python3.8/dist-packages (from pandas->factor_analyzer==0.3.2) (2.8.2)\n",
            "Requirement already satisfied: pytz>=2017.3 in /usr/local/lib/python3.8/dist-packages (from pandas->factor_analyzer==0.3.2) (2022.7.1)\n",
            "Requirement already satisfied: threadpoolctl>=2.0.0 in /usr/local/lib/python3.8/dist-packages (from scikit-learn->factor_analyzer==0.3.2) (3.1.0)\n",
            "Requirement already satisfied: joblib>=0.11 in /usr/local/lib/python3.8/dist-packages (from scikit-learn->factor_analyzer==0.3.2) (1.2.0)\n",
            "Requirement already satisfied: six>=1.5 in /usr/local/lib/python3.8/dist-packages (from python-dateutil>=2.7.3->pandas->factor_analyzer==0.3.2) (1.15.0)\n",
            "Building wheels for collected packages: factor_analyzer\n",
            "  Building wheel for factor_analyzer (setup.py) ... \u001b[?25l\u001b[?25hdone\n",
            "  Created wheel for factor_analyzer: filename=factor_analyzer-0.3.2-py3-none-any.whl size=40394 sha256=5ef525009083cffba094123b2466e01bb6ce71b463ed030fc5d4efceb962b3b8\n",
            "  Stored in directory: /root/.cache/pip/wheels/b1/d4/b5/9da0e0e81266e87f5e85068f031077c8a2ae0eedf76ea1d294\n",
            "Successfully built factor_analyzer\n",
            "Installing collected packages: factor_analyzer\n",
            "Successfully installed factor_analyzer-0.3.2\n"
          ]
        }
      ]
    },
    {
      "cell_type": "code",
      "source": [
        "from factor_analyzer import FactorAnalyzer"
      ],
      "metadata": {
        "id": "bUcE1pZf9SQ_"
      },
      "execution_count": 8,
      "outputs": []
    },
    {
      "cell_type": "code",
      "source": [
        "df = pd.read_excel('/content/sample_data/dados cluster balancete.xlsx')"
      ],
      "metadata": {
        "id": "tPp_EOJb9U13"
      },
      "execution_count": 12,
      "outputs": []
    },
    {
      "cell_type": "code",
      "source": [
        "df.head()"
      ],
      "metadata": {
        "colab": {
          "base_uri": "https://localhost:8080/",
          "height": 206
        },
        "id": "dLeCo4yt9YcW",
        "outputId": "6e23c9cf-aece-485f-b12d-2fde2b649a3b"
      },
      "execution_count": 13,
      "outputs": [
        {
          "output_type": "execute_result",
          "data": {
            "text/plain": [
              "        Código                  Descrição da Conta    Saldo Anterior  \\\n",
              "0            1                               ATIVO  461.309.963,45DB   \n",
              "1          1.1                    ATIVO CIRCULANTE  116.126.131,18DB   \n",
              "2        1.1.1                          DISPONIVEL   11.388.021,70DB   \n",
              "3     1.1.1.02              BANCOS CONTA MOVIMENTO    3.878.515,57DB   \n",
              "4  1.1.1.02.01  Bco Santander (Brasil) S/A 03678-8                 0   \n",
              "\n",
              "         Débito       Crédito        Saldo Atual Flag  \n",
              "0  2.173464e+08  2.096699e+08   468.986.454,77DB   AT  \n",
              "1  1.982429e+08  1.981336e+08   116.235.464,30DB   AT  \n",
              "2  1.373265e+08  1.347340e+08    13.980.554,13DB   AT  \n",
              "3  1.015352e+08  1.033109e+08  2.102.801,14DB      AT  \n",
              "4  1.605298e+07  1.605298e+07                  0   AT  "
            ],
            "text/html": [
              "\n",
              "  <div id=\"df-968bb756-df92-48a9-9193-e189da4992a5\">\n",
              "    <div class=\"colab-df-container\">\n",
              "      <div>\n",
              "<style scoped>\n",
              "    .dataframe tbody tr th:only-of-type {\n",
              "        vertical-align: middle;\n",
              "    }\n",
              "\n",
              "    .dataframe tbody tr th {\n",
              "        vertical-align: top;\n",
              "    }\n",
              "\n",
              "    .dataframe thead th {\n",
              "        text-align: right;\n",
              "    }\n",
              "</style>\n",
              "<table border=\"1\" class=\"dataframe\">\n",
              "  <thead>\n",
              "    <tr style=\"text-align: right;\">\n",
              "      <th></th>\n",
              "      <th>Código</th>\n",
              "      <th>Descrição da Conta</th>\n",
              "      <th>Saldo Anterior</th>\n",
              "      <th>Débito</th>\n",
              "      <th>Crédito</th>\n",
              "      <th>Saldo Atual</th>\n",
              "      <th>Flag</th>\n",
              "    </tr>\n",
              "  </thead>\n",
              "  <tbody>\n",
              "    <tr>\n",
              "      <th>0</th>\n",
              "      <td>1</td>\n",
              "      <td>ATIVO</td>\n",
              "      <td>461.309.963,45DB</td>\n",
              "      <td>2.173464e+08</td>\n",
              "      <td>2.096699e+08</td>\n",
              "      <td>468.986.454,77DB</td>\n",
              "      <td>AT</td>\n",
              "    </tr>\n",
              "    <tr>\n",
              "      <th>1</th>\n",
              "      <td>1.1</td>\n",
              "      <td>ATIVO CIRCULANTE</td>\n",
              "      <td>116.126.131,18DB</td>\n",
              "      <td>1.982429e+08</td>\n",
              "      <td>1.981336e+08</td>\n",
              "      <td>116.235.464,30DB</td>\n",
              "      <td>AT</td>\n",
              "    </tr>\n",
              "    <tr>\n",
              "      <th>2</th>\n",
              "      <td>1.1.1</td>\n",
              "      <td>DISPONIVEL</td>\n",
              "      <td>11.388.021,70DB</td>\n",
              "      <td>1.373265e+08</td>\n",
              "      <td>1.347340e+08</td>\n",
              "      <td>13.980.554,13DB</td>\n",
              "      <td>AT</td>\n",
              "    </tr>\n",
              "    <tr>\n",
              "      <th>3</th>\n",
              "      <td>1.1.1.02</td>\n",
              "      <td>BANCOS CONTA MOVIMENTO</td>\n",
              "      <td>3.878.515,57DB</td>\n",
              "      <td>1.015352e+08</td>\n",
              "      <td>1.033109e+08</td>\n",
              "      <td>2.102.801,14DB</td>\n",
              "      <td>AT</td>\n",
              "    </tr>\n",
              "    <tr>\n",
              "      <th>4</th>\n",
              "      <td>1.1.1.02.01</td>\n",
              "      <td>Bco Santander (Brasil) S/A 03678-8</td>\n",
              "      <td>0</td>\n",
              "      <td>1.605298e+07</td>\n",
              "      <td>1.605298e+07</td>\n",
              "      <td>0</td>\n",
              "      <td>AT</td>\n",
              "    </tr>\n",
              "  </tbody>\n",
              "</table>\n",
              "</div>\n",
              "      <button class=\"colab-df-convert\" onclick=\"convertToInteractive('df-968bb756-df92-48a9-9193-e189da4992a5')\"\n",
              "              title=\"Convert this dataframe to an interactive table.\"\n",
              "              style=\"display:none;\">\n",
              "        \n",
              "  <svg xmlns=\"http://www.w3.org/2000/svg\" height=\"24px\"viewBox=\"0 0 24 24\"\n",
              "       width=\"24px\">\n",
              "    <path d=\"M0 0h24v24H0V0z\" fill=\"none\"/>\n",
              "    <path d=\"M18.56 5.44l.94 2.06.94-2.06 2.06-.94-2.06-.94-.94-2.06-.94 2.06-2.06.94zm-11 1L8.5 8.5l.94-2.06 2.06-.94-2.06-.94L8.5 2.5l-.94 2.06-2.06.94zm10 10l.94 2.06.94-2.06 2.06-.94-2.06-.94-.94-2.06-.94 2.06-2.06.94z\"/><path d=\"M17.41 7.96l-1.37-1.37c-.4-.4-.92-.59-1.43-.59-.52 0-1.04.2-1.43.59L10.3 9.45l-7.72 7.72c-.78.78-.78 2.05 0 2.83L4 21.41c.39.39.9.59 1.41.59.51 0 1.02-.2 1.41-.59l7.78-7.78 2.81-2.81c.8-.78.8-2.07 0-2.86zM5.41 20L4 18.59l7.72-7.72 1.47 1.35L5.41 20z\"/>\n",
              "  </svg>\n",
              "      </button>\n",
              "      \n",
              "  <style>\n",
              "    .colab-df-container {\n",
              "      display:flex;\n",
              "      flex-wrap:wrap;\n",
              "      gap: 12px;\n",
              "    }\n",
              "\n",
              "    .colab-df-convert {\n",
              "      background-color: #E8F0FE;\n",
              "      border: none;\n",
              "      border-radius: 50%;\n",
              "      cursor: pointer;\n",
              "      display: none;\n",
              "      fill: #1967D2;\n",
              "      height: 32px;\n",
              "      padding: 0 0 0 0;\n",
              "      width: 32px;\n",
              "    }\n",
              "\n",
              "    .colab-df-convert:hover {\n",
              "      background-color: #E2EBFA;\n",
              "      box-shadow: 0px 1px 2px rgba(60, 64, 67, 0.3), 0px 1px 3px 1px rgba(60, 64, 67, 0.15);\n",
              "      fill: #174EA6;\n",
              "    }\n",
              "\n",
              "    [theme=dark] .colab-df-convert {\n",
              "      background-color: #3B4455;\n",
              "      fill: #D2E3FC;\n",
              "    }\n",
              "\n",
              "    [theme=dark] .colab-df-convert:hover {\n",
              "      background-color: #434B5C;\n",
              "      box-shadow: 0px 1px 3px 1px rgba(0, 0, 0, 0.15);\n",
              "      filter: drop-shadow(0px 1px 2px rgba(0, 0, 0, 0.3));\n",
              "      fill: #FFFFFF;\n",
              "    }\n",
              "  </style>\n",
              "\n",
              "      <script>\n",
              "        const buttonEl =\n",
              "          document.querySelector('#df-968bb756-df92-48a9-9193-e189da4992a5 button.colab-df-convert');\n",
              "        buttonEl.style.display =\n",
              "          google.colab.kernel.accessAllowed ? 'block' : 'none';\n",
              "\n",
              "        async function convertToInteractive(key) {\n",
              "          const element = document.querySelector('#df-968bb756-df92-48a9-9193-e189da4992a5');\n",
              "          const dataTable =\n",
              "            await google.colab.kernel.invokeFunction('convertToInteractive',\n",
              "                                                     [key], {});\n",
              "          if (!dataTable) return;\n",
              "\n",
              "          const docLinkHtml = 'Like what you see? Visit the ' +\n",
              "            '<a target=\"_blank\" href=https://colab.research.google.com/notebooks/data_table.ipynb>data table notebook</a>'\n",
              "            + ' to learn more about interactive tables.';\n",
              "          element.innerHTML = '';\n",
              "          dataTable['output_type'] = 'display_data';\n",
              "          await google.colab.output.renderOutput(dataTable, element);\n",
              "          const docLink = document.createElement('div');\n",
              "          docLink.innerHTML = docLinkHtml;\n",
              "          element.appendChild(docLink);\n",
              "        }\n",
              "      </script>\n",
              "    </div>\n",
              "  </div>\n",
              "  "
            ]
          },
          "metadata": {},
          "execution_count": 13
        }
      ]
    },
    {
      "cell_type": "markdown",
      "source": [
        "Separar os dados Numéricos de strings em saldo Anterior e Saldo Atual "
      ],
      "metadata": {
        "id": "49PywTN7-LOO"
      }
    },
    {
      "cell_type": "code",
      "source": [
        "df['DB/CR'] = df['Saldo Anterior'].str.slice(-2)"
      ],
      "metadata": {
        "id": "Co6oJFVj-eTe"
      },
      "execution_count": 14,
      "outputs": []
    },
    {
      "cell_type": "code",
      "source": [
        "df['DB/CR Saldo Atual'] = df['Saldo Atual'].str.slice(-2)"
      ],
      "metadata": {
        "id": "69ifhOqM_DGd"
      },
      "execution_count": 15,
      "outputs": []
    },
    {
      "cell_type": "code",
      "source": [
        "df.head()"
      ],
      "metadata": {
        "colab": {
          "base_uri": "https://localhost:8080/",
          "height": 206
        },
        "id": "45RxGGAO_K_V",
        "outputId": "8fc06d00-5678-405b-9f34-bbd3d049778a"
      },
      "execution_count": 16,
      "outputs": [
        {
          "output_type": "execute_result",
          "data": {
            "text/plain": [
              "        Código                  Descrição da Conta    Saldo Anterior  \\\n",
              "0            1                               ATIVO  461.309.963,45DB   \n",
              "1          1.1                    ATIVO CIRCULANTE  116.126.131,18DB   \n",
              "2        1.1.1                          DISPONIVEL   11.388.021,70DB   \n",
              "3     1.1.1.02              BANCOS CONTA MOVIMENTO    3.878.515,57DB   \n",
              "4  1.1.1.02.01  Bco Santander (Brasil) S/A 03678-8                 0   \n",
              "\n",
              "         Débito       Crédito        Saldo Atual Flag DB/CR DB/CR Saldo Atual  \n",
              "0  2.173464e+08  2.096699e+08   468.986.454,77DB   AT    DB                DB  \n",
              "1  1.982429e+08  1.981336e+08   116.235.464,30DB   AT    DB                DB  \n",
              "2  1.373265e+08  1.347340e+08    13.980.554,13DB   AT    DB                DB  \n",
              "3  1.015352e+08  1.033109e+08  2.102.801,14DB      AT    DB                    \n",
              "4  1.605298e+07  1.605298e+07                  0   AT   NaN               NaN  "
            ],
            "text/html": [
              "\n",
              "  <div id=\"df-d6ec0c83-1912-4060-a3b3-85c7341f8e4c\">\n",
              "    <div class=\"colab-df-container\">\n",
              "      <div>\n",
              "<style scoped>\n",
              "    .dataframe tbody tr th:only-of-type {\n",
              "        vertical-align: middle;\n",
              "    }\n",
              "\n",
              "    .dataframe tbody tr th {\n",
              "        vertical-align: top;\n",
              "    }\n",
              "\n",
              "    .dataframe thead th {\n",
              "        text-align: right;\n",
              "    }\n",
              "</style>\n",
              "<table border=\"1\" class=\"dataframe\">\n",
              "  <thead>\n",
              "    <tr style=\"text-align: right;\">\n",
              "      <th></th>\n",
              "      <th>Código</th>\n",
              "      <th>Descrição da Conta</th>\n",
              "      <th>Saldo Anterior</th>\n",
              "      <th>Débito</th>\n",
              "      <th>Crédito</th>\n",
              "      <th>Saldo Atual</th>\n",
              "      <th>Flag</th>\n",
              "      <th>DB/CR</th>\n",
              "      <th>DB/CR Saldo Atual</th>\n",
              "    </tr>\n",
              "  </thead>\n",
              "  <tbody>\n",
              "    <tr>\n",
              "      <th>0</th>\n",
              "      <td>1</td>\n",
              "      <td>ATIVO</td>\n",
              "      <td>461.309.963,45DB</td>\n",
              "      <td>2.173464e+08</td>\n",
              "      <td>2.096699e+08</td>\n",
              "      <td>468.986.454,77DB</td>\n",
              "      <td>AT</td>\n",
              "      <td>DB</td>\n",
              "      <td>DB</td>\n",
              "    </tr>\n",
              "    <tr>\n",
              "      <th>1</th>\n",
              "      <td>1.1</td>\n",
              "      <td>ATIVO CIRCULANTE</td>\n",
              "      <td>116.126.131,18DB</td>\n",
              "      <td>1.982429e+08</td>\n",
              "      <td>1.981336e+08</td>\n",
              "      <td>116.235.464,30DB</td>\n",
              "      <td>AT</td>\n",
              "      <td>DB</td>\n",
              "      <td>DB</td>\n",
              "    </tr>\n",
              "    <tr>\n",
              "      <th>2</th>\n",
              "      <td>1.1.1</td>\n",
              "      <td>DISPONIVEL</td>\n",
              "      <td>11.388.021,70DB</td>\n",
              "      <td>1.373265e+08</td>\n",
              "      <td>1.347340e+08</td>\n",
              "      <td>13.980.554,13DB</td>\n",
              "      <td>AT</td>\n",
              "      <td>DB</td>\n",
              "      <td>DB</td>\n",
              "    </tr>\n",
              "    <tr>\n",
              "      <th>3</th>\n",
              "      <td>1.1.1.02</td>\n",
              "      <td>BANCOS CONTA MOVIMENTO</td>\n",
              "      <td>3.878.515,57DB</td>\n",
              "      <td>1.015352e+08</td>\n",
              "      <td>1.033109e+08</td>\n",
              "      <td>2.102.801,14DB</td>\n",
              "      <td>AT</td>\n",
              "      <td>DB</td>\n",
              "      <td></td>\n",
              "    </tr>\n",
              "    <tr>\n",
              "      <th>4</th>\n",
              "      <td>1.1.1.02.01</td>\n",
              "      <td>Bco Santander (Brasil) S/A 03678-8</td>\n",
              "      <td>0</td>\n",
              "      <td>1.605298e+07</td>\n",
              "      <td>1.605298e+07</td>\n",
              "      <td>0</td>\n",
              "      <td>AT</td>\n",
              "      <td>NaN</td>\n",
              "      <td>NaN</td>\n",
              "    </tr>\n",
              "  </tbody>\n",
              "</table>\n",
              "</div>\n",
              "      <button class=\"colab-df-convert\" onclick=\"convertToInteractive('df-d6ec0c83-1912-4060-a3b3-85c7341f8e4c')\"\n",
              "              title=\"Convert this dataframe to an interactive table.\"\n",
              "              style=\"display:none;\">\n",
              "        \n",
              "  <svg xmlns=\"http://www.w3.org/2000/svg\" height=\"24px\"viewBox=\"0 0 24 24\"\n",
              "       width=\"24px\">\n",
              "    <path d=\"M0 0h24v24H0V0z\" fill=\"none\"/>\n",
              "    <path d=\"M18.56 5.44l.94 2.06.94-2.06 2.06-.94-2.06-.94-.94-2.06-.94 2.06-2.06.94zm-11 1L8.5 8.5l.94-2.06 2.06-.94-2.06-.94L8.5 2.5l-.94 2.06-2.06.94zm10 10l.94 2.06.94-2.06 2.06-.94-2.06-.94-.94-2.06-.94 2.06-2.06.94z\"/><path d=\"M17.41 7.96l-1.37-1.37c-.4-.4-.92-.59-1.43-.59-.52 0-1.04.2-1.43.59L10.3 9.45l-7.72 7.72c-.78.78-.78 2.05 0 2.83L4 21.41c.39.39.9.59 1.41.59.51 0 1.02-.2 1.41-.59l7.78-7.78 2.81-2.81c.8-.78.8-2.07 0-2.86zM5.41 20L4 18.59l7.72-7.72 1.47 1.35L5.41 20z\"/>\n",
              "  </svg>\n",
              "      </button>\n",
              "      \n",
              "  <style>\n",
              "    .colab-df-container {\n",
              "      display:flex;\n",
              "      flex-wrap:wrap;\n",
              "      gap: 12px;\n",
              "    }\n",
              "\n",
              "    .colab-df-convert {\n",
              "      background-color: #E8F0FE;\n",
              "      border: none;\n",
              "      border-radius: 50%;\n",
              "      cursor: pointer;\n",
              "      display: none;\n",
              "      fill: #1967D2;\n",
              "      height: 32px;\n",
              "      padding: 0 0 0 0;\n",
              "      width: 32px;\n",
              "    }\n",
              "\n",
              "    .colab-df-convert:hover {\n",
              "      background-color: #E2EBFA;\n",
              "      box-shadow: 0px 1px 2px rgba(60, 64, 67, 0.3), 0px 1px 3px 1px rgba(60, 64, 67, 0.15);\n",
              "      fill: #174EA6;\n",
              "    }\n",
              "\n",
              "    [theme=dark] .colab-df-convert {\n",
              "      background-color: #3B4455;\n",
              "      fill: #D2E3FC;\n",
              "    }\n",
              "\n",
              "    [theme=dark] .colab-df-convert:hover {\n",
              "      background-color: #434B5C;\n",
              "      box-shadow: 0px 1px 3px 1px rgba(0, 0, 0, 0.15);\n",
              "      filter: drop-shadow(0px 1px 2px rgba(0, 0, 0, 0.3));\n",
              "      fill: #FFFFFF;\n",
              "    }\n",
              "  </style>\n",
              "\n",
              "      <script>\n",
              "        const buttonEl =\n",
              "          document.querySelector('#df-d6ec0c83-1912-4060-a3b3-85c7341f8e4c button.colab-df-convert');\n",
              "        buttonEl.style.display =\n",
              "          google.colab.kernel.accessAllowed ? 'block' : 'none';\n",
              "\n",
              "        async function convertToInteractive(key) {\n",
              "          const element = document.querySelector('#df-d6ec0c83-1912-4060-a3b3-85c7341f8e4c');\n",
              "          const dataTable =\n",
              "            await google.colab.kernel.invokeFunction('convertToInteractive',\n",
              "                                                     [key], {});\n",
              "          if (!dataTable) return;\n",
              "\n",
              "          const docLinkHtml = 'Like what you see? Visit the ' +\n",
              "            '<a target=\"_blank\" href=https://colab.research.google.com/notebooks/data_table.ipynb>data table notebook</a>'\n",
              "            + ' to learn more about interactive tables.';\n",
              "          element.innerHTML = '';\n",
              "          dataTable['output_type'] = 'display_data';\n",
              "          await google.colab.output.renderOutput(dataTable, element);\n",
              "          const docLink = document.createElement('div');\n",
              "          docLink.innerHTML = docLinkHtml;\n",
              "          element.appendChild(docLink);\n",
              "        }\n",
              "      </script>\n",
              "    </div>\n",
              "  </div>\n",
              "  "
            ]
          },
          "metadata": {},
          "execution_count": 16
        }
      ]
    },
    {
      "cell_type": "markdown",
      "source": [
        "Remomevendo DB E CR das colunas Saldo atual e Saldo Anterior "
      ],
      "metadata": {
        "id": "msll0v3S_YYf"
      }
    },
    {
      "cell_type": "code",
      "source": [
        "df['Saldo Anterior'] =  df['Saldo Anterior'].str.replace('DB','')"
      ],
      "metadata": {
        "id": "ngUltJ4F_lnn"
      },
      "execution_count": 17,
      "outputs": []
    },
    {
      "cell_type": "code",
      "source": [
        "df['Saldo Anterior']= df['Saldo Anterior'].str.replace('CR','')"
      ],
      "metadata": {
        "id": "ByQZIPha_smW"
      },
      "execution_count": 18,
      "outputs": []
    },
    {
      "cell_type": "code",
      "source": [
        "df['Saldo Atual'] =  df['Saldo Atual'].str.replace('DB','')"
      ],
      "metadata": {
        "id": "rxerjfnd_trP"
      },
      "execution_count": 19,
      "outputs": []
    },
    {
      "cell_type": "code",
      "source": [
        "df['Saldo Atual'] =  df['Saldo Atual'].str.replace('CR','')"
      ],
      "metadata": {
        "id": "o90Aq-e8_18M"
      },
      "execution_count": 20,
      "outputs": []
    },
    {
      "cell_type": "code",
      "source": [
        "df.head()"
      ],
      "metadata": {
        "colab": {
          "base_uri": "https://localhost:8080/",
          "height": 206
        },
        "id": "QeTUjrcE_4A0",
        "outputId": "d454cea6-6853-4786-9e22-921a0baff637"
      },
      "execution_count": 21,
      "outputs": [
        {
          "output_type": "execute_result",
          "data": {
            "text/plain": [
              "        Código                  Descrição da Conta  Saldo Anterior  \\\n",
              "0            1                               ATIVO  461.309.963,45   \n",
              "1          1.1                    ATIVO CIRCULANTE  116.126.131,18   \n",
              "2        1.1.1                          DISPONIVEL   11.388.021,70   \n",
              "3     1.1.1.02              BANCOS CONTA MOVIMENTO    3.878.515,57   \n",
              "4  1.1.1.02.01  Bco Santander (Brasil) S/A 03678-8             NaN   \n",
              "\n",
              "         Débito       Crédito      Saldo Atual Flag DB/CR DB/CR Saldo Atual  \n",
              "0  2.173464e+08  2.096699e+08   468.986.454,77   AT    DB                DB  \n",
              "1  1.982429e+08  1.981336e+08   116.235.464,30   AT    DB                DB  \n",
              "2  1.373265e+08  1.347340e+08    13.980.554,13   AT    DB                DB  \n",
              "3  1.015352e+08  1.033109e+08  2.102.801,14      AT    DB                    \n",
              "4  1.605298e+07  1.605298e+07              NaN   AT   NaN               NaN  "
            ],
            "text/html": [
              "\n",
              "  <div id=\"df-b628d037-b76a-4de9-b873-a6321e7c6cbe\">\n",
              "    <div class=\"colab-df-container\">\n",
              "      <div>\n",
              "<style scoped>\n",
              "    .dataframe tbody tr th:only-of-type {\n",
              "        vertical-align: middle;\n",
              "    }\n",
              "\n",
              "    .dataframe tbody tr th {\n",
              "        vertical-align: top;\n",
              "    }\n",
              "\n",
              "    .dataframe thead th {\n",
              "        text-align: right;\n",
              "    }\n",
              "</style>\n",
              "<table border=\"1\" class=\"dataframe\">\n",
              "  <thead>\n",
              "    <tr style=\"text-align: right;\">\n",
              "      <th></th>\n",
              "      <th>Código</th>\n",
              "      <th>Descrição da Conta</th>\n",
              "      <th>Saldo Anterior</th>\n",
              "      <th>Débito</th>\n",
              "      <th>Crédito</th>\n",
              "      <th>Saldo Atual</th>\n",
              "      <th>Flag</th>\n",
              "      <th>DB/CR</th>\n",
              "      <th>DB/CR Saldo Atual</th>\n",
              "    </tr>\n",
              "  </thead>\n",
              "  <tbody>\n",
              "    <tr>\n",
              "      <th>0</th>\n",
              "      <td>1</td>\n",
              "      <td>ATIVO</td>\n",
              "      <td>461.309.963,45</td>\n",
              "      <td>2.173464e+08</td>\n",
              "      <td>2.096699e+08</td>\n",
              "      <td>468.986.454,77</td>\n",
              "      <td>AT</td>\n",
              "      <td>DB</td>\n",
              "      <td>DB</td>\n",
              "    </tr>\n",
              "    <tr>\n",
              "      <th>1</th>\n",
              "      <td>1.1</td>\n",
              "      <td>ATIVO CIRCULANTE</td>\n",
              "      <td>116.126.131,18</td>\n",
              "      <td>1.982429e+08</td>\n",
              "      <td>1.981336e+08</td>\n",
              "      <td>116.235.464,30</td>\n",
              "      <td>AT</td>\n",
              "      <td>DB</td>\n",
              "      <td>DB</td>\n",
              "    </tr>\n",
              "    <tr>\n",
              "      <th>2</th>\n",
              "      <td>1.1.1</td>\n",
              "      <td>DISPONIVEL</td>\n",
              "      <td>11.388.021,70</td>\n",
              "      <td>1.373265e+08</td>\n",
              "      <td>1.347340e+08</td>\n",
              "      <td>13.980.554,13</td>\n",
              "      <td>AT</td>\n",
              "      <td>DB</td>\n",
              "      <td>DB</td>\n",
              "    </tr>\n",
              "    <tr>\n",
              "      <th>3</th>\n",
              "      <td>1.1.1.02</td>\n",
              "      <td>BANCOS CONTA MOVIMENTO</td>\n",
              "      <td>3.878.515,57</td>\n",
              "      <td>1.015352e+08</td>\n",
              "      <td>1.033109e+08</td>\n",
              "      <td>2.102.801,14</td>\n",
              "      <td>AT</td>\n",
              "      <td>DB</td>\n",
              "      <td></td>\n",
              "    </tr>\n",
              "    <tr>\n",
              "      <th>4</th>\n",
              "      <td>1.1.1.02.01</td>\n",
              "      <td>Bco Santander (Brasil) S/A 03678-8</td>\n",
              "      <td>NaN</td>\n",
              "      <td>1.605298e+07</td>\n",
              "      <td>1.605298e+07</td>\n",
              "      <td>NaN</td>\n",
              "      <td>AT</td>\n",
              "      <td>NaN</td>\n",
              "      <td>NaN</td>\n",
              "    </tr>\n",
              "  </tbody>\n",
              "</table>\n",
              "</div>\n",
              "      <button class=\"colab-df-convert\" onclick=\"convertToInteractive('df-b628d037-b76a-4de9-b873-a6321e7c6cbe')\"\n",
              "              title=\"Convert this dataframe to an interactive table.\"\n",
              "              style=\"display:none;\">\n",
              "        \n",
              "  <svg xmlns=\"http://www.w3.org/2000/svg\" height=\"24px\"viewBox=\"0 0 24 24\"\n",
              "       width=\"24px\">\n",
              "    <path d=\"M0 0h24v24H0V0z\" fill=\"none\"/>\n",
              "    <path d=\"M18.56 5.44l.94 2.06.94-2.06 2.06-.94-2.06-.94-.94-2.06-.94 2.06-2.06.94zm-11 1L8.5 8.5l.94-2.06 2.06-.94-2.06-.94L8.5 2.5l-.94 2.06-2.06.94zm10 10l.94 2.06.94-2.06 2.06-.94-2.06-.94-.94-2.06-.94 2.06-2.06.94z\"/><path d=\"M17.41 7.96l-1.37-1.37c-.4-.4-.92-.59-1.43-.59-.52 0-1.04.2-1.43.59L10.3 9.45l-7.72 7.72c-.78.78-.78 2.05 0 2.83L4 21.41c.39.39.9.59 1.41.59.51 0 1.02-.2 1.41-.59l7.78-7.78 2.81-2.81c.8-.78.8-2.07 0-2.86zM5.41 20L4 18.59l7.72-7.72 1.47 1.35L5.41 20z\"/>\n",
              "  </svg>\n",
              "      </button>\n",
              "      \n",
              "  <style>\n",
              "    .colab-df-container {\n",
              "      display:flex;\n",
              "      flex-wrap:wrap;\n",
              "      gap: 12px;\n",
              "    }\n",
              "\n",
              "    .colab-df-convert {\n",
              "      background-color: #E8F0FE;\n",
              "      border: none;\n",
              "      border-radius: 50%;\n",
              "      cursor: pointer;\n",
              "      display: none;\n",
              "      fill: #1967D2;\n",
              "      height: 32px;\n",
              "      padding: 0 0 0 0;\n",
              "      width: 32px;\n",
              "    }\n",
              "\n",
              "    .colab-df-convert:hover {\n",
              "      background-color: #E2EBFA;\n",
              "      box-shadow: 0px 1px 2px rgba(60, 64, 67, 0.3), 0px 1px 3px 1px rgba(60, 64, 67, 0.15);\n",
              "      fill: #174EA6;\n",
              "    }\n",
              "\n",
              "    [theme=dark] .colab-df-convert {\n",
              "      background-color: #3B4455;\n",
              "      fill: #D2E3FC;\n",
              "    }\n",
              "\n",
              "    [theme=dark] .colab-df-convert:hover {\n",
              "      background-color: #434B5C;\n",
              "      box-shadow: 0px 1px 3px 1px rgba(0, 0, 0, 0.15);\n",
              "      filter: drop-shadow(0px 1px 2px rgba(0, 0, 0, 0.3));\n",
              "      fill: #FFFFFF;\n",
              "    }\n",
              "  </style>\n",
              "\n",
              "      <script>\n",
              "        const buttonEl =\n",
              "          document.querySelector('#df-b628d037-b76a-4de9-b873-a6321e7c6cbe button.colab-df-convert');\n",
              "        buttonEl.style.display =\n",
              "          google.colab.kernel.accessAllowed ? 'block' : 'none';\n",
              "\n",
              "        async function convertToInteractive(key) {\n",
              "          const element = document.querySelector('#df-b628d037-b76a-4de9-b873-a6321e7c6cbe');\n",
              "          const dataTable =\n",
              "            await google.colab.kernel.invokeFunction('convertToInteractive',\n",
              "                                                     [key], {});\n",
              "          if (!dataTable) return;\n",
              "\n",
              "          const docLinkHtml = 'Like what you see? Visit the ' +\n",
              "            '<a target=\"_blank\" href=https://colab.research.google.com/notebooks/data_table.ipynb>data table notebook</a>'\n",
              "            + ' to learn more about interactive tables.';\n",
              "          element.innerHTML = '';\n",
              "          dataTable['output_type'] = 'display_data';\n",
              "          await google.colab.output.renderOutput(dataTable, element);\n",
              "          const docLink = document.createElement('div');\n",
              "          docLink.innerHTML = docLinkHtml;\n",
              "          element.appendChild(docLink);\n",
              "        }\n",
              "      </script>\n",
              "    </div>\n",
              "  </div>\n",
              "  "
            ]
          },
          "metadata": {},
          "execution_count": 21
        }
      ]
    },
    {
      "cell_type": "code",
      "source": [
        "df.info()"
      ],
      "metadata": {
        "colab": {
          "base_uri": "https://localhost:8080/"
        },
        "id": "exgiEgllAoDU",
        "outputId": "0052b9f4-be9e-4e75-b8b2-1c267b7a5dc3"
      },
      "execution_count": 22,
      "outputs": [
        {
          "output_type": "stream",
          "name": "stdout",
          "text": [
            "<class 'pandas.core.frame.DataFrame'>\n",
            "RangeIndex: 466 entries, 0 to 465\n",
            "Data columns (total 9 columns):\n",
            " #   Column              Non-Null Count  Dtype  \n",
            "---  ------              --------------  -----  \n",
            " 0   Código              462 non-null    object \n",
            " 1   Descrição da Conta  460 non-null    object \n",
            " 2   Saldo Anterior      424 non-null    object \n",
            " 3   Débito              460 non-null    float64\n",
            " 4   Crédito             460 non-null    float64\n",
            " 5   Saldo Atual         420 non-null    object \n",
            " 6   Flag                461 non-null    object \n",
            " 7   DB/CR               424 non-null    object \n",
            " 8   DB/CR Saldo Atual   420 non-null    object \n",
            "dtypes: float64(2), object(7)\n",
            "memory usage: 32.9+ KB\n"
          ]
        }
      ]
    },
    {
      "cell_type": "code",
      "source": [
        "df.describe()"
      ],
      "metadata": {
        "colab": {
          "base_uri": "https://localhost:8080/",
          "height": 300
        },
        "id": "xxEldgU-ADZl",
        "outputId": "21d7b652-20f0-47d1-8439-468b1a3a8c52"
      },
      "execution_count": 23,
      "outputs": [
        {
          "output_type": "execute_result",
          "data": {
            "text/plain": [
              "             Débito       Crédito\n",
              "count  4.600000e+02  4.600000e+02\n",
              "mean   3.268727e+06  3.268727e+06\n",
              "std    1.711954e+07  1.708253e+07\n",
              "min    0.000000e+00  0.000000e+00\n",
              "25%    0.000000e+00  0.000000e+00\n",
              "50%    2.049439e+04  3.809025e+03\n",
              "75%    4.831155e+05  3.807236e+05\n",
              "max    2.173464e+08  2.096699e+08"
            ],
            "text/html": [
              "\n",
              "  <div id=\"df-c72605ce-f744-4388-810b-0e36b275f86b\">\n",
              "    <div class=\"colab-df-container\">\n",
              "      <div>\n",
              "<style scoped>\n",
              "    .dataframe tbody tr th:only-of-type {\n",
              "        vertical-align: middle;\n",
              "    }\n",
              "\n",
              "    .dataframe tbody tr th {\n",
              "        vertical-align: top;\n",
              "    }\n",
              "\n",
              "    .dataframe thead th {\n",
              "        text-align: right;\n",
              "    }\n",
              "</style>\n",
              "<table border=\"1\" class=\"dataframe\">\n",
              "  <thead>\n",
              "    <tr style=\"text-align: right;\">\n",
              "      <th></th>\n",
              "      <th>Débito</th>\n",
              "      <th>Crédito</th>\n",
              "    </tr>\n",
              "  </thead>\n",
              "  <tbody>\n",
              "    <tr>\n",
              "      <th>count</th>\n",
              "      <td>4.600000e+02</td>\n",
              "      <td>4.600000e+02</td>\n",
              "    </tr>\n",
              "    <tr>\n",
              "      <th>mean</th>\n",
              "      <td>3.268727e+06</td>\n",
              "      <td>3.268727e+06</td>\n",
              "    </tr>\n",
              "    <tr>\n",
              "      <th>std</th>\n",
              "      <td>1.711954e+07</td>\n",
              "      <td>1.708253e+07</td>\n",
              "    </tr>\n",
              "    <tr>\n",
              "      <th>min</th>\n",
              "      <td>0.000000e+00</td>\n",
              "      <td>0.000000e+00</td>\n",
              "    </tr>\n",
              "    <tr>\n",
              "      <th>25%</th>\n",
              "      <td>0.000000e+00</td>\n",
              "      <td>0.000000e+00</td>\n",
              "    </tr>\n",
              "    <tr>\n",
              "      <th>50%</th>\n",
              "      <td>2.049439e+04</td>\n",
              "      <td>3.809025e+03</td>\n",
              "    </tr>\n",
              "    <tr>\n",
              "      <th>75%</th>\n",
              "      <td>4.831155e+05</td>\n",
              "      <td>3.807236e+05</td>\n",
              "    </tr>\n",
              "    <tr>\n",
              "      <th>max</th>\n",
              "      <td>2.173464e+08</td>\n",
              "      <td>2.096699e+08</td>\n",
              "    </tr>\n",
              "  </tbody>\n",
              "</table>\n",
              "</div>\n",
              "      <button class=\"colab-df-convert\" onclick=\"convertToInteractive('df-c72605ce-f744-4388-810b-0e36b275f86b')\"\n",
              "              title=\"Convert this dataframe to an interactive table.\"\n",
              "              style=\"display:none;\">\n",
              "        \n",
              "  <svg xmlns=\"http://www.w3.org/2000/svg\" height=\"24px\"viewBox=\"0 0 24 24\"\n",
              "       width=\"24px\">\n",
              "    <path d=\"M0 0h24v24H0V0z\" fill=\"none\"/>\n",
              "    <path d=\"M18.56 5.44l.94 2.06.94-2.06 2.06-.94-2.06-.94-.94-2.06-.94 2.06-2.06.94zm-11 1L8.5 8.5l.94-2.06 2.06-.94-2.06-.94L8.5 2.5l-.94 2.06-2.06.94zm10 10l.94 2.06.94-2.06 2.06-.94-2.06-.94-.94-2.06-.94 2.06-2.06.94z\"/><path d=\"M17.41 7.96l-1.37-1.37c-.4-.4-.92-.59-1.43-.59-.52 0-1.04.2-1.43.59L10.3 9.45l-7.72 7.72c-.78.78-.78 2.05 0 2.83L4 21.41c.39.39.9.59 1.41.59.51 0 1.02-.2 1.41-.59l7.78-7.78 2.81-2.81c.8-.78.8-2.07 0-2.86zM5.41 20L4 18.59l7.72-7.72 1.47 1.35L5.41 20z\"/>\n",
              "  </svg>\n",
              "      </button>\n",
              "      \n",
              "  <style>\n",
              "    .colab-df-container {\n",
              "      display:flex;\n",
              "      flex-wrap:wrap;\n",
              "      gap: 12px;\n",
              "    }\n",
              "\n",
              "    .colab-df-convert {\n",
              "      background-color: #E8F0FE;\n",
              "      border: none;\n",
              "      border-radius: 50%;\n",
              "      cursor: pointer;\n",
              "      display: none;\n",
              "      fill: #1967D2;\n",
              "      height: 32px;\n",
              "      padding: 0 0 0 0;\n",
              "      width: 32px;\n",
              "    }\n",
              "\n",
              "    .colab-df-convert:hover {\n",
              "      background-color: #E2EBFA;\n",
              "      box-shadow: 0px 1px 2px rgba(60, 64, 67, 0.3), 0px 1px 3px 1px rgba(60, 64, 67, 0.15);\n",
              "      fill: #174EA6;\n",
              "    }\n",
              "\n",
              "    [theme=dark] .colab-df-convert {\n",
              "      background-color: #3B4455;\n",
              "      fill: #D2E3FC;\n",
              "    }\n",
              "\n",
              "    [theme=dark] .colab-df-convert:hover {\n",
              "      background-color: #434B5C;\n",
              "      box-shadow: 0px 1px 3px 1px rgba(0, 0, 0, 0.15);\n",
              "      filter: drop-shadow(0px 1px 2px rgba(0, 0, 0, 0.3));\n",
              "      fill: #FFFFFF;\n",
              "    }\n",
              "  </style>\n",
              "\n",
              "      <script>\n",
              "        const buttonEl =\n",
              "          document.querySelector('#df-c72605ce-f744-4388-810b-0e36b275f86b button.colab-df-convert');\n",
              "        buttonEl.style.display =\n",
              "          google.colab.kernel.accessAllowed ? 'block' : 'none';\n",
              "\n",
              "        async function convertToInteractive(key) {\n",
              "          const element = document.querySelector('#df-c72605ce-f744-4388-810b-0e36b275f86b');\n",
              "          const dataTable =\n",
              "            await google.colab.kernel.invokeFunction('convertToInteractive',\n",
              "                                                     [key], {});\n",
              "          if (!dataTable) return;\n",
              "\n",
              "          const docLinkHtml = 'Like what you see? Visit the ' +\n",
              "            '<a target=\"_blank\" href=https://colab.research.google.com/notebooks/data_table.ipynb>data table notebook</a>'\n",
              "            + ' to learn more about interactive tables.';\n",
              "          element.innerHTML = '';\n",
              "          dataTable['output_type'] = 'display_data';\n",
              "          await google.colab.output.renderOutput(dataTable, element);\n",
              "          const docLink = document.createElement('div');\n",
              "          docLink.innerHTML = docLinkHtml;\n",
              "          element.appendChild(docLink);\n",
              "        }\n",
              "      </script>\n",
              "    </div>\n",
              "  </div>\n",
              "  "
            ]
          },
          "metadata": {},
          "execution_count": 23
        }
      ]
    },
    {
      "cell_type": "markdown",
      "source": [
        "Quantidade de valor únicos nas colunas\n",
        "\n"
      ],
      "metadata": {
        "id": "RFUFZ_1hBUEs"
      }
    },
    {
      "cell_type": "code",
      "source": [
        "df.nunique()"
      ],
      "metadata": {
        "colab": {
          "base_uri": "https://localhost:8080/"
        },
        "id": "tJx9bIIYBCuH",
        "outputId": "a497eaea-b608-48ca-f1d9-11c54ef61829"
      },
      "execution_count": 24,
      "outputs": [
        {
          "output_type": "execute_result",
          "data": {
            "text/plain": [
              "Código                461\n",
              "Descrição da Conta    446\n",
              "Saldo Anterior        367\n",
              "Débito                300\n",
              "Crédito               261\n",
              "Saldo Atual           368\n",
              "Flag                    3\n",
              "DB/CR                   2\n",
              "DB/CR Saldo Atual       3\n",
              "dtype: int64"
            ]
          },
          "metadata": {},
          "execution_count": 24
        }
      ]
    },
    {
      "cell_type": "code",
      "source": [
        "# verifica o percentual de missing data\n",
        "check_missing(df)"
      ],
      "metadata": {
        "colab": {
          "base_uri": "https://localhost:8080/"
        },
        "id": "CtQT2n3RB9e0",
        "outputId": "0b96fd72-cff8-43fd-a90b-b95d39fc824f"
      },
      "execution_count": 25,
      "outputs": [
        {
          "output_type": "execute_result",
          "data": {
            "text/plain": [
              "Saldo Atual           9.87\n",
              "DB/CR Saldo Atual     9.87\n",
              "Saldo Anterior        9.01\n",
              "DB/CR                 9.01\n",
              "Descrição da Conta    1.29\n",
              "Débito                1.29\n",
              "Crédito               1.29\n",
              "Flag                  1.07\n",
              "Código                0.86\n",
              "dtype: float64"
            ]
          },
          "metadata": {},
          "execution_count": 25
        }
      ]
    },
    {
      "cell_type": "markdown",
      "source": [],
      "metadata": {
        "id": "Kv6m8iEIB17M"
      }
    },
    {
      "cell_type": "code",
      "source": [
        "show_percentage_missing(df)"
      ],
      "metadata": {
        "colab": {
          "base_uri": "https://localhost:8080/",
          "height": 893
        },
        "id": "skb96JURBmSk",
        "outputId": "86385e29-9377-4a31-a602-f41f037d06bc"
      },
      "execution_count": 26,
      "outputs": [
        {
          "output_type": "display_data",
          "data": {
            "text/plain": [
              "<Figure size 720x1080 with 1 Axes>"
            ],
            "image/png": "[encoded data removed]"
          },
          "metadata": {
            "needs_background": "light"
          }
        }
      ]
    },
    {
      "cell_type": "markdown",
      "source": [
        "Convertendo as coluans para string e Númerico "
      ],
      "metadata": {
        "id": "GKqOxzy2Ddq8"
      }
    },
    {
      "cell_type": "code",
      "source": [
        "df['Débito'] = df['Débito'].astype(float)"
      ],
      "metadata": {
        "id": "r1vzTPitD_tj"
      },
      "execution_count": 27,
      "outputs": []
    },
    {
      "cell_type": "code",
      "source": [
        "df['Crédito'] = df['Crédito'].astype(float)"
      ],
      "metadata": {
        "id": "QMgq1yCQEiJE"
      },
      "execution_count": 28,
      "outputs": []
    },
    {
      "cell_type": "code",
      "source": [
        "df['Flag'] = df['Flag'].astype(\"string\")"
      ],
      "metadata": {
        "id": "daCIfreTFXRy"
      },
      "execution_count": 29,
      "outputs": []
    },
    {
      "cell_type": "code",
      "source": [
        "df['Descrição da Conta'] = df['Descrição da Conta'].astype(\"string\")"
      ],
      "metadata": {
        "id": "Nld1KIWmGvjg"
      },
      "execution_count": 30,
      "outputs": []
    },
    {
      "cell_type": "code",
      "source": [
        "df['Saldo Atual'] = df['Saldo Atual'].fillna(0)"
      ],
      "metadata": {
        "id": "w5AaRAzVI2uo"
      },
      "execution_count": 32,
      "outputs": []
    },
    {
      "cell_type": "code",
      "source": [
        "df['Saldo Atual'] = df['Saldo Atual'].astype(\"string\")"
      ],
      "metadata": {
        "id": "WF2j0FyCMw8_"
      },
      "execution_count": 140,
      "outputs": []
    },
    {
      "cell_type": "code",
      "source": [
        "df['Saldo Atual'].head()"
      ],
      "metadata": {
        "colab": {
          "base_uri": "https://localhost:8080/"
        },
        "id": "oSSuVb5OILBA",
        "outputId": "94db754f-5868-493c-aded-712b4ef3b45c"
      },
      "execution_count": 141,
      "outputs": [
        {
          "output_type": "execute_result",
          "data": {
            "text/plain": [
              "0     468.986.454,77\n",
              "1     116.235.464,30\n",
              "2      13.980.554,13\n",
              "3    2.102.801,14   \n",
              "4               <NA>\n",
              "Name: Saldo Atual, dtype: string"
            ]
          },
          "metadata": {},
          "execution_count": 141
        }
      ]
    },
    {
      "cell_type": "code",
      "source": [
        "df['Saldo Atual'] = df['Saldo Atual'].str.replace('.', '')"
      ],
      "metadata": {
        "id": "bBelb61bZtqS"
      },
      "execution_count": 33,
      "outputs": []
    },
    {
      "cell_type": "code",
      "source": [
        "df['Saldo Atual'].head()"
      ],
      "metadata": {
        "colab": {
          "base_uri": "https://localhost:8080/"
        },
        "id": "GAv4r_UoaNmp",
        "outputId": "8d71a907-4e02-4f66-d9ca-82f4bcf4276d"
      },
      "execution_count": 34,
      "outputs": [
        {
          "output_type": "execute_result",
          "data": {
            "text/plain": [
              "0     468986454,77\n",
              "1     116235464,30\n",
              "2      13980554,13\n",
              "3    2102801,14   \n",
              "4              NaN\n",
              "Name: Saldo Atual, dtype: object"
            ]
          },
          "metadata": {},
          "execution_count": 34
        }
      ]
    },
    {
      "cell_type": "code",
      "source": [
        "df['Saldo Atual'] = df['Saldo Atual'].str.replace(',', '.')"
      ],
      "metadata": {
        "id": "D8j20w9vae3J"
      },
      "execution_count": 35,
      "outputs": []
    },
    {
      "cell_type": "code",
      "source": [
        "df['Saldo Atual'].head()"
      ],
      "metadata": {
        "colab": {
          "base_uri": "https://localhost:8080/"
        },
        "id": "qKdkJdt0akCY",
        "outputId": "d33dcffe-a332-49e1-be7b-68f58205abde"
      },
      "execution_count": 36,
      "outputs": [
        {
          "output_type": "execute_result",
          "data": {
            "text/plain": [
              "0     468986454.77\n",
              "1     116235464.30\n",
              "2      13980554.13\n",
              "3    2102801.14   \n",
              "4              NaN\n",
              "Name: Saldo Atual, dtype: object"
            ]
          },
          "metadata": {},
          "execution_count": 36
        }
      ]
    },
    {
      "cell_type": "code",
      "source": [
        "df['Saldo Atual'] = df['Saldo Atual'].astype(float)"
      ],
      "metadata": {
        "id": "WrnKb82FH4Ci"
      },
      "execution_count": 37,
      "outputs": []
    },
    {
      "cell_type": "code",
      "source": [
        "df.info()"
      ],
      "metadata": {
        "colab": {
          "base_uri": "https://localhost:8080/"
        },
        "id": "VbXVbEpvGx2r",
        "outputId": "5a72f04b-9e49-4df8-a7f0-8391b4be5621"
      },
      "execution_count": 147,
      "outputs": [
        {
          "output_type": "stream",
          "name": "stdout",
          "text": [
            "<class 'pandas.core.frame.DataFrame'>\n",
            "RangeIndex: 466 entries, 0 to 465\n",
            "Data columns (total 9 columns):\n",
            " #   Column              Non-Null Count  Dtype  \n",
            "---  ------              --------------  -----  \n",
            " 0   Código              462 non-null    object \n",
            " 1   Descrição da Conta  460 non-null    string \n",
            " 2   Saldo Anterior      424 non-null    object \n",
            " 3   Débito              460 non-null    float64\n",
            " 4   Crédito             460 non-null    float64\n",
            " 5   Saldo Atual         420 non-null    float64\n",
            " 6   Flag                461 non-null    string \n",
            " 7   DB/CR               424 non-null    object \n",
            " 8   DB/CR Saldo Atual   420 non-null    object \n",
            "dtypes: float64(3), object(4), string(2)\n",
            "memory usage: 32.9+ KB\n"
          ]
        }
      ]
    },
    {
      "cell_type": "code",
      "source": [
        "df['Saldo Anterior'] = df['Saldo Anterior'].str.replace('.', '')"
      ],
      "metadata": {
        "id": "_puUmw4Ya2fo"
      },
      "execution_count": 38,
      "outputs": []
    },
    {
      "cell_type": "code",
      "source": [
        "df['Saldo Anterior'].head()"
      ],
      "metadata": {
        "colab": {
          "base_uri": "https://localhost:8080/"
        },
        "id": "vnzwCHGZbJxJ",
        "outputId": "667a22f0-2853-4cc6-c6ae-7340266e064c"
      },
      "execution_count": 39,
      "outputs": [
        {
          "output_type": "execute_result",
          "data": {
            "text/plain": [
              "0    461309963,45\n",
              "1    116126131,18\n",
              "2     11388021,70\n",
              "3      3878515,57\n",
              "4             NaN\n",
              "Name: Saldo Anterior, dtype: object"
            ]
          },
          "metadata": {},
          "execution_count": 39
        }
      ]
    },
    {
      "cell_type": "code",
      "source": [
        "df['Saldo Anterior'] = df['Saldo Anterior'].astype('string')"
      ],
      "metadata": {
        "id": "wmUEBU3tb02I"
      },
      "execution_count": 40,
      "outputs": []
    },
    {
      "cell_type": "code",
      "source": [
        "df['Saldo Anterior'] = df['Saldo Anterior'].str.replace(',', '.')"
      ],
      "metadata": {
        "id": "qDI-fQ2GboI4"
      },
      "execution_count": 41,
      "outputs": []
    },
    {
      "cell_type": "code",
      "source": [
        "df['Saldo Anterior']"
      ],
      "metadata": {
        "colab": {
          "base_uri": "https://localhost:8080/"
        },
        "id": "8SkijrS_cIWA",
        "outputId": "e737205c-6a9f-432b-cb36-d15ebad39134"
      },
      "execution_count": 42,
      "outputs": [
        {
          "output_type": "execute_result",
          "data": {
            "text/plain": [
              "0      461309963.45\n",
              "1      116126131.18\n",
              "2       11388021.70\n",
              "3        3878515.57\n",
              "4              <NA>\n",
              "           ...     \n",
              "461            <NA>\n",
              "462            <NA>\n",
              "463            <NA>\n",
              "464            <NA>\n",
              "465            <NA>\n",
              "Name: Saldo Anterior, Length: 466, dtype: string"
            ]
          },
          "metadata": {},
          "execution_count": 42
        }
      ]
    },
    {
      "cell_type": "code",
      "source": [
        "df['Saldo Anterior'] = df['Saldo Anterior'].astype(float)"
      ],
      "metadata": {
        "id": "cUB94nUCa-D5"
      },
      "execution_count": 43,
      "outputs": []
    },
    {
      "cell_type": "code",
      "source": [
        "df.head()"
      ],
      "metadata": {
        "colab": {
          "base_uri": "https://localhost:8080/",
          "height": 206
        },
        "id": "qRgKClgiEvs6",
        "outputId": "75296c52-12ee-4b1e-9dfd-487c73533531"
      },
      "execution_count": 44,
      "outputs": [
        {
          "output_type": "execute_result",
          "data": {
            "text/plain": [
              "        Código                  Descrição da Conta  Saldo Anterior  \\\n",
              "0            1                               ATIVO    4.613100e+08   \n",
              "1          1.1                    ATIVO CIRCULANTE    1.161261e+08   \n",
              "2        1.1.1                          DISPONIVEL    1.138802e+07   \n",
              "3     1.1.1.02              BANCOS CONTA MOVIMENTO    3.878516e+06   \n",
              "4  1.1.1.02.01  Bco Santander (Brasil) S/A 03678-8             NaN   \n",
              "\n",
              "         Débito       Crédito   Saldo Atual Flag DB/CR DB/CR Saldo Atual  \n",
              "0  2.173464e+08  2.096699e+08  4.689865e+08   AT    DB                DB  \n",
              "1  1.982429e+08  1.981336e+08  1.162355e+08   AT    DB                DB  \n",
              "2  1.373265e+08  1.347340e+08  1.398055e+07   AT    DB                DB  \n",
              "3  1.015352e+08  1.033109e+08  2.102801e+06   AT    DB                    \n",
              "4  1.605298e+07  1.605298e+07           NaN   AT   NaN               NaN  "
            ],
            "text/html": [
              "\n",
              "  <div id=\"df-87080562-713c-4439-aa75-1627adf23f48\">\n",
              "    <div class=\"colab-df-container\">\n",
              "      <div>\n",
              "<style scoped>\n",
              "    .dataframe tbody tr th:only-of-type {\n",
              "        vertical-align: middle;\n",
              "    }\n",
              "\n",
              "    .dataframe tbody tr th {\n",
              "        vertical-align: top;\n",
              "    }\n",
              "\n",
              "    .dataframe thead th {\n",
              "        text-align: right;\n",
              "    }\n",
              "</style>\n",
              "<table border=\"1\" class=\"dataframe\">\n",
              "  <thead>\n",
              "    <tr style=\"text-align: right;\">\n",
              "      <th></th>\n",
              "      <th>Código</th>\n",
              "      <th>Descrição da Conta</th>\n",
              "      <th>Saldo Anterior</th>\n",
              "      <th>Débito</th>\n",
              "      <th>Crédito</th>\n",
              "      <th>Saldo Atual</th>\n",
              "      <th>Flag</th>\n",
              "      <th>DB/CR</th>\n",
              "      <th>DB/CR Saldo Atual</th>\n",
              "    </tr>\n",
              "  </thead>\n",
              "  <tbody>\n",
              "    <tr>\n",
              "      <th>0</th>\n",
              "      <td>1</td>\n",
              "      <td>ATIVO</td>\n",
              "      <td>4.613100e+08</td>\n",
              "      <td>2.173464e+08</td>\n",
              "      <td>2.096699e+08</td>\n",
              "      <td>4.689865e+08</td>\n",
              "      <td>AT</td>\n",
              "      <td>DB</td>\n",
              "      <td>DB</td>\n",
              "    </tr>\n",
              "    <tr>\n",
              "      <th>1</th>\n",
              "      <td>1.1</td>\n",
              "      <td>ATIVO CIRCULANTE</td>\n",
              "      <td>1.161261e+08</td>\n",
              "      <td>1.982429e+08</td>\n",
              "      <td>1.981336e+08</td>\n",
              "      <td>1.162355e+08</td>\n",
              "      <td>AT</td>\n",
              "      <td>DB</td>\n",
              "      <td>DB</td>\n",
              "    </tr>\n",
              "    <tr>\n",
              "      <th>2</th>\n",
              "      <td>1.1.1</td>\n",
              "      <td>DISPONIVEL</td>\n",
              "      <td>1.138802e+07</td>\n",
              "      <td>1.373265e+08</td>\n",
              "      <td>1.347340e+08</td>\n",
              "      <td>1.398055e+07</td>\n",
              "      <td>AT</td>\n",
              "      <td>DB</td>\n",
              "      <td>DB</td>\n",
              "    </tr>\n",
              "    <tr>\n",
              "      <th>3</th>\n",
              "      <td>1.1.1.02</td>\n",
              "      <td>BANCOS CONTA MOVIMENTO</td>\n",
              "      <td>3.878516e+06</td>\n",
              "      <td>1.015352e+08</td>\n",
              "      <td>1.033109e+08</td>\n",
              "      <td>2.102801e+06</td>\n",
              "      <td>AT</td>\n",
              "      <td>DB</td>\n",
              "      <td></td>\n",
              "    </tr>\n",
              "    <tr>\n",
              "      <th>4</th>\n",
              "      <td>1.1.1.02.01</td>\n",
              "      <td>Bco Santander (Brasil) S/A 03678-8</td>\n",
              "      <td>NaN</td>\n",
              "      <td>1.605298e+07</td>\n",
              "      <td>1.605298e+07</td>\n",
              "      <td>NaN</td>\n",
              "      <td>AT</td>\n",
              "      <td>NaN</td>\n",
              "      <td>NaN</td>\n",
              "    </tr>\n",
              "  </tbody>\n",
              "</table>\n",
              "</div>\n",
              "      <button class=\"colab-df-convert\" onclick=\"convertToInteractive('df-87080562-713c-4439-aa75-1627adf23f48')\"\n",
              "              title=\"Convert this dataframe to an interactive table.\"\n",
              "              style=\"display:none;\">\n",
              "        \n",
              "  <svg xmlns=\"http://www.w3.org/2000/svg\" height=\"24px\"viewBox=\"0 0 24 24\"\n",
              "       width=\"24px\">\n",
              "    <path d=\"M0 0h24v24H0V0z\" fill=\"none\"/>\n",
              "    <path d=\"M18.56 5.44l.94 2.06.94-2.06 2.06-.94-2.06-.94-.94-2.06-.94 2.06-2.06.94zm-11 1L8.5 8.5l.94-2.06 2.06-.94-2.06-.94L8.5 2.5l-.94 2.06-2.06.94zm10 10l.94 2.06.94-2.06 2.06-.94-2.06-.94-.94-2.06-.94 2.06-2.06.94z\"/><path d=\"M17.41 7.96l-1.37-1.37c-.4-.4-.92-.59-1.43-.59-.52 0-1.04.2-1.43.59L10.3 9.45l-7.72 7.72c-.78.78-.78 2.05 0 2.83L4 21.41c.39.39.9.59 1.41.59.51 0 1.02-.2 1.41-.59l7.78-7.78 2.81-2.81c.8-.78.8-2.07 0-2.86zM5.41 20L4 18.59l7.72-7.72 1.47 1.35L5.41 20z\"/>\n",
              "  </svg>\n",
              "      </button>\n",
              "      \n",
              "  <style>\n",
              "    .colab-df-container {\n",
              "      display:flex;\n",
              "      flex-wrap:wrap;\n",
              "      gap: 12px;\n",
              "    }\n",
              "\n",
              "    .colab-df-convert {\n",
              "      background-color: #E8F0FE;\n",
              "      border: none;\n",
              "      border-radius: 50%;\n",
              "      cursor: pointer;\n",
              "      display: none;\n",
              "      fill: #1967D2;\n",
              "      height: 32px;\n",
              "      padding: 0 0 0 0;\n",
              "      width: 32px;\n",
              "    }\n",
              "\n",
              "    .colab-df-convert:hover {\n",
              "      background-color: #E2EBFA;\n",
              "      box-shadow: 0px 1px 2px rgba(60, 64, 67, 0.3), 0px 1px 3px 1px rgba(60, 64, 67, 0.15);\n",
              "      fill: #174EA6;\n",
              "    }\n",
              "\n",
              "    [theme=dark] .colab-df-convert {\n",
              "      background-color: #3B4455;\n",
              "      fill: #D2E3FC;\n",
              "    }\n",
              "\n",
              "    [theme=dark] .colab-df-convert:hover {\n",
              "      background-color: #434B5C;\n",
              "      box-shadow: 0px 1px 3px 1px rgba(0, 0, 0, 0.15);\n",
              "      filter: drop-shadow(0px 1px 2px rgba(0, 0, 0, 0.3));\n",
              "      fill: #FFFFFF;\n",
              "    }\n",
              "  </style>\n",
              "\n",
              "      <script>\n",
              "        const buttonEl =\n",
              "          document.querySelector('#df-87080562-713c-4439-aa75-1627adf23f48 button.colab-df-convert');\n",
              "        buttonEl.style.display =\n",
              "          google.colab.kernel.accessAllowed ? 'block' : 'none';\n",
              "\n",
              "        async function convertToInteractive(key) {\n",
              "          const element = document.querySelector('#df-87080562-713c-4439-aa75-1627adf23f48');\n",
              "          const dataTable =\n",
              "            await google.colab.kernel.invokeFunction('convertToInteractive',\n",
              "                                                     [key], {});\n",
              "          if (!dataTable) return;\n",
              "\n",
              "          const docLinkHtml = 'Like what you see? Visit the ' +\n",
              "            '<a target=\"_blank\" href=https://colab.research.google.com/notebooks/data_table.ipynb>data table notebook</a>'\n",
              "            + ' to learn more about interactive tables.';\n",
              "          element.innerHTML = '';\n",
              "          dataTable['output_type'] = 'display_data';\n",
              "          await google.colab.output.renderOutput(dataTable, element);\n",
              "          const docLink = document.createElement('div');\n",
              "          docLink.innerHTML = docLinkHtml;\n",
              "          element.appendChild(docLink);\n",
              "        }\n",
              "      </script>\n",
              "    </div>\n",
              "  </div>\n",
              "  "
            ]
          },
          "metadata": {},
          "execution_count": 44
        }
      ]
    },
    {
      "cell_type": "markdown",
      "source": [
        "__________________________________________________________________"
      ],
      "metadata": {
        "id": "eXfJwAiFcnwo"
      }
    },
    {
      "cell_type": "code",
      "source": [
        "df.columns"
      ],
      "metadata": {
        "colab": {
          "base_uri": "https://localhost:8080/"
        },
        "id": "yQym8FOecz8v",
        "outputId": "7dd64027-2a43-426b-82bc-dc5ac51d501f"
      },
      "execution_count": 169,
      "outputs": [
        {
          "output_type": "execute_result",
          "data": {
            "text/plain": [
              "Index(['Código', 'Descrição da Conta', 'Saldo Anterior', 'Débito', 'Crédito',\n",
              "       'Saldo Atual', 'Flag', 'DB/CR', 'DB/CR Saldo Atual'],\n",
              "      dtype='object')"
            ]
          },
          "metadata": {},
          "execution_count": 169
        }
      ]
    },
    {
      "cell_type": "markdown",
      "source": [
        "Criando Dummy "
      ],
      "metadata": {
        "id": "x9C-Uef-ctWo"
      }
    },
    {
      "cell_type": "code",
      "source": [
        "df_dummies = pd.get_dummies(df, columns=['Flag', 'DB/CR', 'DB/CR Saldo Atual'])"
      ],
      "metadata": {
        "id": "erVR3vo6FO5r"
      },
      "execution_count": 45,
      "outputs": []
    },
    {
      "cell_type": "code",
      "source": [
        "df_dummies.head()"
      ],
      "metadata": {
        "colab": {
          "base_uri": "https://localhost:8080/",
          "height": 409
        },
        "id": "TaL-FBOPdBQW",
        "outputId": "1334faee-a721-4c74-ce41-d8e75e0bf102"
      },
      "execution_count": 46,
      "outputs": [
        {
          "output_type": "execute_result",
          "data": {
            "text/plain": [
              "        Código                  Descrição da Conta  Saldo Anterior  \\\n",
              "0            1                               ATIVO    4.613100e+08   \n",
              "1          1.1                    ATIVO CIRCULANTE    1.161261e+08   \n",
              "2        1.1.1                          DISPONIVEL    1.138802e+07   \n",
              "3     1.1.1.02              BANCOS CONTA MOVIMENTO    3.878516e+06   \n",
              "4  1.1.1.02.01  Bco Santander (Brasil) S/A 03678-8             NaN   \n",
              "\n",
              "         Débito       Crédito   Saldo Atual  Flag_AT  Flag_FA  Flag_PAS  \\\n",
              "0  2.173464e+08  2.096699e+08  4.689865e+08        1        0         0   \n",
              "1  1.982429e+08  1.981336e+08  1.162355e+08        1        0         0   \n",
              "2  1.373265e+08  1.347340e+08  1.398055e+07        1        0         0   \n",
              "3  1.015352e+08  1.033109e+08  2.102801e+06        1        0         0   \n",
              "4  1.605298e+07  1.605298e+07           NaN        1        0         0   \n",
              "\n",
              "   DB/CR_CR  DB/CR_DB  DB/CR Saldo Atual_    DB/CR Saldo Atual_CR  \\\n",
              "0         0         1                     0                     0   \n",
              "1         0         1                     0                     0   \n",
              "2         0         1                     0                     0   \n",
              "3         0         1                     1                     0   \n",
              "4         0         0                     0                     0   \n",
              "\n",
              "   DB/CR Saldo Atual_DB  \n",
              "0                     1  \n",
              "1                     1  \n",
              "2                     1  \n",
              "3                     0  \n",
              "4                     0  "
            ],
            "text/html": [
              "\n",
              "  <div id=\"df-88a35a69-a689-4194-b55f-dcb62382be22\">\n",
              "    <div class=\"colab-df-container\">\n",
              "      <div>\n",
              "<style scoped>\n",
              "    .dataframe tbody tr th:only-of-type {\n",
              "        vertical-align: middle;\n",
              "    }\n",
              "\n",
              "    .dataframe tbody tr th {\n",
              "        vertical-align: top;\n",
              "    }\n",
              "\n",
              "    .dataframe thead th {\n",
              "        text-align: right;\n",
              "    }\n",
              "</style>\n",
              "<table border=\"1\" class=\"dataframe\">\n",
              "  <thead>\n",
              "    <tr style=\"text-align: right;\">\n",
              "      <th></th>\n",
              "      <th>Código</th>\n",
              "      <th>Descrição da Conta</th>\n",
              "      <th>Saldo Anterior</th>\n",
              "      <th>Débito</th>\n",
              "      <th>Crédito</th>\n",
              "      <th>Saldo Atual</th>\n",
              "      <th>Flag_AT</th>\n",
              "      <th>Flag_FA</th>\n",
              "      <th>Flag_PAS</th>\n",
              "      <th>DB/CR_CR</th>\n",
              "      <th>DB/CR_DB</th>\n",
              "      <th>DB/CR Saldo Atual_</th>\n",
              "      <th>DB/CR Saldo Atual_CR</th>\n",
              "      <th>DB/CR Saldo Atual_DB</th>\n",
              "    </tr>\n",
              "  </thead>\n",
              "  <tbody>\n",
              "    <tr>\n",
              "      <th>0</th>\n",
              "      <td>1</td>\n",
              "      <td>ATIVO</td>\n",
              "      <td>4.613100e+08</td>\n",
              "      <td>2.173464e+08</td>\n",
              "      <td>2.096699e+08</td>\n",
              "      <td>4.689865e+08</td>\n",
              "      <td>1</td>\n",
              "      <td>0</td>\n",
              "      <td>0</td>\n",
              "      <td>0</td>\n",
              "      <td>1</td>\n",
              "      <td>0</td>\n",
              "      <td>0</td>\n",
              "      <td>1</td>\n",
              "    </tr>\n",
              "    <tr>\n",
              "      <th>1</th>\n",
              "      <td>1.1</td>\n",
              "      <td>ATIVO CIRCULANTE</td>\n",
              "      <td>1.161261e+08</td>\n",
              "      <td>1.982429e+08</td>\n",
              "      <td>1.981336e+08</td>\n",
              "      <td>1.162355e+08</td>\n",
              "      <td>1</td>\n",
              "      <td>0</td>\n",
              "      <td>0</td>\n",
              "      <td>0</td>\n",
              "      <td>1</td>\n",
              "      <td>0</td>\n",
              "      <td>0</td>\n",
              "      <td>1</td>\n",
              "    </tr>\n",
              "    <tr>\n",
              "      <th>2</th>\n",
              "      <td>1.1.1</td>\n",
              "      <td>DISPONIVEL</td>\n",
              "      <td>1.138802e+07</td>\n",
              "      <td>1.373265e+08</td>\n",
              "      <td>1.347340e+08</td>\n",
              "      <td>1.398055e+07</td>\n",
              "      <td>1</td>\n",
              "      <td>0</td>\n",
              "      <td>0</td>\n",
              "      <td>0</td>\n",
              "      <td>1</td>\n",
              "      <td>0</td>\n",
              "      <td>0</td>\n",
              "      <td>1</td>\n",
              "    </tr>\n",
              "    <tr>\n",
              "      <th>3</th>\n",
              "      <td>1.1.1.02</td>\n",
              "      <td>BANCOS CONTA MOVIMENTO</td>\n",
              "      <td>3.878516e+06</td>\n",
              "      <td>1.015352e+08</td>\n",
              "      <td>1.033109e+08</td>\n",
              "      <td>2.102801e+06</td>\n",
              "      <td>1</td>\n",
              "      <td>0</td>\n",
              "      <td>0</td>\n",
              "      <td>0</td>\n",
              "      <td>1</td>\n",
              "      <td>1</td>\n",
              "      <td>0</td>\n",
              "      <td>0</td>\n",
              "    </tr>\n",
              "    <tr>\n",
              "      <th>4</th>\n",
              "      <td>1.1.1.02.01</td>\n",
              "      <td>Bco Santander (Brasil) S/A 03678-8</td>\n",
              "      <td>NaN</td>\n",
              "      <td>1.605298e+07</td>\n",
              "      <td>1.605298e+07</td>\n",
              "      <td>NaN</td>\n",
              "      <td>1</td>\n",
              "      <td>0</td>\n",
              "      <td>0</td>\n",
              "      <td>0</td>\n",
              "      <td>0</td>\n",
              "      <td>0</td>\n",
              "      <td>0</td>\n",
              "      <td>0</td>\n",
              "    </tr>\n",
              "  </tbody>\n",
              "</table>\n",
              "</div>\n",
              "      <button class=\"colab-df-convert\" onclick=\"convertToInteractive('df-88a35a69-a689-4194-b55f-dcb62382be22')\"\n",
              "              title=\"Convert this dataframe to an interactive table.\"\n",
              "              style=\"display:none;\">\n",
              "        \n",
              "  <svg xmlns=\"http://www.w3.org/2000/svg\" height=\"24px\"viewBox=\"0 0 24 24\"\n",
              "       width=\"24px\">\n",
              "    <path d=\"M0 0h24v24H0V0z\" fill=\"none\"/>\n",
              "    <path d=\"M18.56 5.44l.94 2.06.94-2.06 2.06-.94-2.06-.94-.94-2.06-.94 2.06-2.06.94zm-11 1L8.5 8.5l.94-2.06 2.06-.94-2.06-.94L8.5 2.5l-.94 2.06-2.06.94zm10 10l.94 2.06.94-2.06 2.06-.94-2.06-.94-.94-2.06-.94 2.06-2.06.94z\"/><path d=\"M17.41 7.96l-1.37-1.37c-.4-.4-.92-.59-1.43-.59-.52 0-1.04.2-1.43.59L10.3 9.45l-7.72 7.72c-.78.78-.78 2.05 0 2.83L4 21.41c.39.39.9.59 1.41.59.51 0 1.02-.2 1.41-.59l7.78-7.78 2.81-2.81c.8-.78.8-2.07 0-2.86zM5.41 20L4 18.59l7.72-7.72 1.47 1.35L5.41 20z\"/>\n",
              "  </svg>\n",
              "      </button>\n",
              "      \n",
              "  <style>\n",
              "    .colab-df-container {\n",
              "      display:flex;\n",
              "      flex-wrap:wrap;\n",
              "      gap: 12px;\n",
              "    }\n",
              "\n",
              "    .colab-df-convert {\n",
              "      background-color: #E8F0FE;\n",
              "      border: none;\n",
              "      border-radius: 50%;\n",
              "      cursor: pointer;\n",
              "      display: none;\n",
              "      fill: #1967D2;\n",
              "      height: 32px;\n",
              "      padding: 0 0 0 0;\n",
              "      width: 32px;\n",
              "    }\n",
              "\n",
              "    .colab-df-convert:hover {\n",
              "      background-color: #E2EBFA;\n",
              "      box-shadow: 0px 1px 2px rgba(60, 64, 67, 0.3), 0px 1px 3px 1px rgba(60, 64, 67, 0.15);\n",
              "      fill: #174EA6;\n",
              "    }\n",
              "\n",
              "    [theme=dark] .colab-df-convert {\n",
              "      background-color: #3B4455;\n",
              "      fill: #D2E3FC;\n",
              "    }\n",
              "\n",
              "    [theme=dark] .colab-df-convert:hover {\n",
              "      background-color: #434B5C;\n",
              "      box-shadow: 0px 1px 3px 1px rgba(0, 0, 0, 0.15);\n",
              "      filter: drop-shadow(0px 1px 2px rgba(0, 0, 0, 0.3));\n",
              "      fill: #FFFFFF;\n",
              "    }\n",
              "  </style>\n",
              "\n",
              "      <script>\n",
              "        const buttonEl =\n",
              "          document.querySelector('#df-88a35a69-a689-4194-b55f-dcb62382be22 button.colab-df-convert');\n",
              "        buttonEl.style.display =\n",
              "          google.colab.kernel.accessAllowed ? 'block' : 'none';\n",
              "\n",
              "        async function convertToInteractive(key) {\n",
              "          const element = document.querySelector('#df-88a35a69-a689-4194-b55f-dcb62382be22');\n",
              "          const dataTable =\n",
              "            await google.colab.kernel.invokeFunction('convertToInteractive',\n",
              "                                                     [key], {});\n",
              "          if (!dataTable) return;\n",
              "\n",
              "          const docLinkHtml = 'Like what you see? Visit the ' +\n",
              "            '<a target=\"_blank\" href=https://colab.research.google.com/notebooks/data_table.ipynb>data table notebook</a>'\n",
              "            + ' to learn more about interactive tables.';\n",
              "          element.innerHTML = '';\n",
              "          dataTable['output_type'] = 'display_data';\n",
              "          await google.colab.output.renderOutput(dataTable, element);\n",
              "          const docLink = document.createElement('div');\n",
              "          docLink.innerHTML = docLinkHtml;\n",
              "          element.appendChild(docLink);\n",
              "        }\n",
              "      </script>\n",
              "    </div>\n",
              "  </div>\n",
              "  "
            ]
          },
          "metadata": {},
          "execution_count": 46
        }
      ]
    },
    {
      "cell_type": "code",
      "source": [
        "df_dummies['Saldo Atual'] = df_dummies['Saldo Atual'].fillna(0)"
      ],
      "metadata": {
        "id": "5KOIz-Sc8YR5"
      },
      "execution_count": 48,
      "outputs": []
    },
    {
      "cell_type": "code",
      "source": [
        "df_dummies['Saldo Anterior'] = df_dummies['Saldo Anterior'].fillna(0)"
      ],
      "metadata": {
        "id": "GMHXVp_T8swz"
      },
      "execution_count": 51,
      "outputs": []
    },
    {
      "cell_type": "code",
      "source": [
        "df_dummies.head()"
      ],
      "metadata": {
        "colab": {
          "base_uri": "https://localhost:8080/",
          "height": 409
        },
        "id": "ObZt2LzT71f6",
        "outputId": "9616c9e0-9768-4328-d027-0ab2520ba127"
      },
      "execution_count": 50,
      "outputs": [
        {
          "output_type": "execute_result",
          "data": {
            "text/plain": [
              "        Código                  Descrição da Conta  Saldo Anterior  \\\n",
              "0            1                               ATIVO    4.613100e+08   \n",
              "1          1.1                    ATIVO CIRCULANTE    1.161261e+08   \n",
              "2        1.1.1                          DISPONIVEL    1.138802e+07   \n",
              "3     1.1.1.02              BANCOS CONTA MOVIMENTO    3.878516e+06   \n",
              "4  1.1.1.02.01  Bco Santander (Brasil) S/A 03678-8             NaN   \n",
              "\n",
              "         Débito       Crédito   Saldo Atual  Flag_AT  Flag_FA  Flag_PAS  \\\n",
              "0  2.173464e+08  2.096699e+08  4.689865e+08        1        0         0   \n",
              "1  1.982429e+08  1.981336e+08  1.162355e+08        1        0         0   \n",
              "2  1.373265e+08  1.347340e+08  1.398055e+07        1        0         0   \n",
              "3  1.015352e+08  1.033109e+08  2.102801e+06        1        0         0   \n",
              "4  1.605298e+07  1.605298e+07  0.000000e+00        1        0         0   \n",
              "\n",
              "   DB/CR_CR  DB/CR_DB  DB/CR Saldo Atual_    DB/CR Saldo Atual_CR  \\\n",
              "0         0         1                     0                     0   \n",
              "1         0         1                     0                     0   \n",
              "2         0         1                     0                     0   \n",
              "3         0         1                     1                     0   \n",
              "4         0         0                     0                     0   \n",
              "\n",
              "   DB/CR Saldo Atual_DB  \n",
              "0                     1  \n",
              "1                     1  \n",
              "2                     1  \n",
              "3                     0  \n",
              "4                     0  "
            ],
            "text/html": [
              "\n",
              "  <div id=\"df-eaaa5bfa-d256-4d4c-b461-9fce3cc6372e\">\n",
              "    <div class=\"colab-df-container\">\n",
              "      <div>\n",
              "<style scoped>\n",
              "    .dataframe tbody tr th:only-of-type {\n",
              "        vertical-align: middle;\n",
              "    }\n",
              "\n",
              "    .dataframe tbody tr th {\n",
              "        vertical-align: top;\n",
              "    }\n",
              "\n",
              "    .dataframe thead th {\n",
              "        text-align: right;\n",
              "    }\n",
              "</style>\n",
              "<table border=\"1\" class=\"dataframe\">\n",
              "  <thead>\n",
              "    <tr style=\"text-align: right;\">\n",
              "      <th></th>\n",
              "      <th>Código</th>\n",
              "      <th>Descrição da Conta</th>\n",
              "      <th>Saldo Anterior</th>\n",
              "      <th>Débito</th>\n",
              "      <th>Crédito</th>\n",
              "      <th>Saldo Atual</th>\n",
              "      <th>Flag_AT</th>\n",
              "      <th>Flag_FA</th>\n",
              "      <th>Flag_PAS</th>\n",
              "      <th>DB/CR_CR</th>\n",
              "      <th>DB/CR_DB</th>\n",
              "      <th>DB/CR Saldo Atual_</th>\n",
              "      <th>DB/CR Saldo Atual_CR</th>\n",
              "      <th>DB/CR Saldo Atual_DB</th>\n",
              "    </tr>\n",
              "  </thead>\n",
              "  <tbody>\n",
              "    <tr>\n",
              "      <th>0</th>\n",
              "      <td>1</td>\n",
              "      <td>ATIVO</td>\n",
              "      <td>4.613100e+08</td>\n",
              "      <td>2.173464e+08</td>\n",
              "      <td>2.096699e+08</td>\n",
              "      <td>4.689865e+08</td>\n",
              "      <td>1</td>\n",
              "      <td>0</td>\n",
              "      <td>0</td>\n",
              "      <td>0</td>\n",
              "      <td>1</td>\n",
              "      <td>0</td>\n",
              "      <td>0</td>\n",
              "      <td>1</td>\n",
              "    </tr>\n",
              "    <tr>\n",
              "      <th>1</th>\n",
              "      <td>1.1</td>\n",
              "      <td>ATIVO CIRCULANTE</td>\n",
              "      <td>1.161261e+08</td>\n",
              "      <td>1.982429e+08</td>\n",
              "      <td>1.981336e+08</td>\n",
              "      <td>1.162355e+08</td>\n",
              "      <td>1</td>\n",
              "      <td>0</td>\n",
              "      <td>0</td>\n",
              "      <td>0</td>\n",
              "      <td>1</td>\n",
              "      <td>0</td>\n",
              "      <td>0</td>\n",
              "      <td>1</td>\n",
              "    </tr>\n",
              "    <tr>\n",
              "      <th>2</th>\n",
              "      <td>1.1.1</td>\n",
              "      <td>DISPONIVEL</td>\n",
              "      <td>1.138802e+07</td>\n",
              "      <td>1.373265e+08</td>\n",
              "      <td>1.347340e+08</td>\n",
              "      <td>1.398055e+07</td>\n",
              "      <td>1</td>\n",
              "      <td>0</td>\n",
              "      <td>0</td>\n",
              "      <td>0</td>\n",
              "      <td>1</td>\n",
              "      <td>0</td>\n",
              "      <td>0</td>\n",
              "      <td>1</td>\n",
              "    </tr>\n",
              "    <tr>\n",
              "      <th>3</th>\n",
              "      <td>1.1.1.02</td>\n",
              "      <td>BANCOS CONTA MOVIMENTO</td>\n",
              "      <td>3.878516e+06</td>\n",
              "      <td>1.015352e+08</td>\n",
              "      <td>1.033109e+08</td>\n",
              "      <td>2.102801e+06</td>\n",
              "      <td>1</td>\n",
              "      <td>0</td>\n",
              "      <td>0</td>\n",
              "      <td>0</td>\n",
              "      <td>1</td>\n",
              "      <td>1</td>\n",
              "      <td>0</td>\n",
              "      <td>0</td>\n",
              "    </tr>\n",
              "    <tr>\n",
              "      <th>4</th>\n",
              "      <td>1.1.1.02.01</td>\n",
              "      <td>Bco Santander (Brasil) S/A 03678-8</td>\n",
              "      <td>NaN</td>\n",
              "      <td>1.605298e+07</td>\n",
              "      <td>1.605298e+07</td>\n",
              "      <td>0.000000e+00</td>\n",
              "      <td>1</td>\n",
              "      <td>0</td>\n",
              "      <td>0</td>\n",
              "      <td>0</td>\n",
              "      <td>0</td>\n",
              "      <td>0</td>\n",
              "      <td>0</td>\n",
              "      <td>0</td>\n",
              "    </tr>\n",
              "  </tbody>\n",
              "</table>\n",
              "</div>\n",
              "      <button class=\"colab-df-convert\" onclick=\"convertToInteractive('df-eaaa5bfa-d256-4d4c-b461-9fce3cc6372e')\"\n",
              "              title=\"Convert this dataframe to an interactive table.\"\n",
              "              style=\"display:none;\">\n",
              "        \n",
              "  <svg xmlns=\"http://www.w3.org/2000/svg\" height=\"24px\"viewBox=\"0 0 24 24\"\n",
              "       width=\"24px\">\n",
              "    <path d=\"M0 0h24v24H0V0z\" fill=\"none\"/>\n",
              "    <path d=\"M18.56 5.44l.94 2.06.94-2.06 2.06-.94-2.06-.94-.94-2.06-.94 2.06-2.06.94zm-11 1L8.5 8.5l.94-2.06 2.06-.94-2.06-.94L8.5 2.5l-.94 2.06-2.06.94zm10 10l.94 2.06.94-2.06 2.06-.94-2.06-.94-.94-2.06-.94 2.06-2.06.94z\"/><path d=\"M17.41 7.96l-1.37-1.37c-.4-.4-.92-.59-1.43-.59-.52 0-1.04.2-1.43.59L10.3 9.45l-7.72 7.72c-.78.78-.78 2.05 0 2.83L4 21.41c.39.39.9.59 1.41.59.51 0 1.02-.2 1.41-.59l7.78-7.78 2.81-2.81c.8-.78.8-2.07 0-2.86zM5.41 20L4 18.59l7.72-7.72 1.47 1.35L5.41 20z\"/>\n",
              "  </svg>\n",
              "      </button>\n",
              "      \n",
              "  <style>\n",
              "    .colab-df-container {\n",
              "      display:flex;\n",
              "      flex-wrap:wrap;\n",
              "      gap: 12px;\n",
              "    }\n",
              "\n",
              "    .colab-df-convert {\n",
              "      background-color: #E8F0FE;\n",
              "      border: none;\n",
              "      border-radius: 50%;\n",
              "      cursor: pointer;\n",
              "      display: none;\n",
              "      fill: #1967D2;\n",
              "      height: 32px;\n",
              "      padding: 0 0 0 0;\n",
              "      width: 32px;\n",
              "    }\n",
              "\n",
              "    .colab-df-convert:hover {\n",
              "      background-color: #E2EBFA;\n",
              "      box-shadow: 0px 1px 2px rgba(60, 64, 67, 0.3), 0px 1px 3px 1px rgba(60, 64, 67, 0.15);\n",
              "      fill: #174EA6;\n",
              "    }\n",
              "\n",
              "    [theme=dark] .colab-df-convert {\n",
              "      background-color: #3B4455;\n",
              "      fill: #D2E3FC;\n",
              "    }\n",
              "\n",
              "    [theme=dark] .colab-df-convert:hover {\n",
              "      background-color: #434B5C;\n",
              "      box-shadow: 0px 1px 3px 1px rgba(0, 0, 0, 0.15);\n",
              "      filter: drop-shadow(0px 1px 2px rgba(0, 0, 0, 0.3));\n",
              "      fill: #FFFFFF;\n",
              "    }\n",
              "  </style>\n",
              "\n",
              "      <script>\n",
              "        const buttonEl =\n",
              "          document.querySelector('#df-eaaa5bfa-d256-4d4c-b461-9fce3cc6372e button.colab-df-convert');\n",
              "        buttonEl.style.display =\n",
              "          google.colab.kernel.accessAllowed ? 'block' : 'none';\n",
              "\n",
              "        async function convertToInteractive(key) {\n",
              "          const element = document.querySelector('#df-eaaa5bfa-d256-4d4c-b461-9fce3cc6372e');\n",
              "          const dataTable =\n",
              "            await google.colab.kernel.invokeFunction('convertToInteractive',\n",
              "                                                     [key], {});\n",
              "          if (!dataTable) return;\n",
              "\n",
              "          const docLinkHtml = 'Like what you see? Visit the ' +\n",
              "            '<a target=\"_blank\" href=https://colab.research.google.com/notebooks/data_table.ipynb>data table notebook</a>'\n",
              "            + ' to learn more about interactive tables.';\n",
              "          element.innerHTML = '';\n",
              "          dataTable['output_type'] = 'display_data';\n",
              "          await google.colab.output.renderOutput(dataTable, element);\n",
              "          const docLink = document.createElement('div');\n",
              "          docLink.innerHTML = docLinkHtml;\n",
              "          element.appendChild(docLink);\n",
              "        }\n",
              "      </script>\n",
              "    </div>\n",
              "  </div>\n",
              "  "
            ]
          },
          "metadata": {},
          "execution_count": 50
        }
      ]
    },
    {
      "cell_type": "code",
      "source": [
        "X = df_dummies.iloc[:, 2:12]"
      ],
      "metadata": {
        "id": "-z-YZgbZdL5A"
      },
      "execution_count": 58,
      "outputs": []
    },
    {
      "cell_type": "code",
      "source": [
        "X"
      ],
      "metadata": {
        "colab": {
          "base_uri": "https://localhost:8080/",
          "height": 423
        },
        "id": "kpOWc_PAdUNq",
        "outputId": "6b3957ea-2b0e-4ff3-bbeb-b236ae2bbe21"
      },
      "execution_count": 59,
      "outputs": [
        {
          "output_type": "execute_result",
          "data": {
            "text/plain": [
              "     Saldo Anterior        Débito       Crédito   Saldo Atual  Flag_AT  \\\n",
              "0      4.613100e+08  2.173464e+08  2.096699e+08  4.689865e+08        1   \n",
              "1      1.161261e+08  1.982429e+08  1.981336e+08  1.162355e+08        1   \n",
              "2      1.138802e+07  1.373265e+08  1.347340e+08  1.398055e+07        1   \n",
              "3      3.878516e+06  1.015352e+08  1.033109e+08  2.102801e+06        1   \n",
              "4      0.000000e+00  1.605298e+07  1.605298e+07  0.000000e+00        1   \n",
              "..              ...           ...           ...           ...      ...   \n",
              "461    0.000000e+00           NaN           NaN  0.000000e+00        0   \n",
              "462    0.000000e+00           NaN           NaN  0.000000e+00        0   \n",
              "463    0.000000e+00           NaN           NaN  0.000000e+00        0   \n",
              "464    0.000000e+00           NaN           NaN  0.000000e+00        0   \n",
              "465    0.000000e+00           NaN           NaN  0.000000e+00        0   \n",
              "\n",
              "     Flag_FA  Flag_PAS  DB/CR_CR  DB/CR_DB  DB/CR Saldo Atual_    \n",
              "0          0         0         0         1                     0  \n",
              "1          0         0         0         1                     0  \n",
              "2          0         0         0         1                     0  \n",
              "3          0         0         0         1                     1  \n",
              "4          0         0         0         0                     0  \n",
              "..       ...       ...       ...       ...                   ...  \n",
              "461        0         0         0         0                     0  \n",
              "462        0         0         0         0                     0  \n",
              "463        0         0         0         0                     0  \n",
              "464        0         0         0         0                     0  \n",
              "465        0         0         0         0                     0  \n",
              "\n",
              "[466 rows x 10 columns]"
            ],
            "text/html": [
              "\n",
              "  <div id=\"df-705ab0f9-6ed2-4246-919a-9665ed3033f3\">\n",
              "    <div class=\"colab-df-container\">\n",
              "      <div>\n",
              "<style scoped>\n",
              "    .dataframe tbody tr th:only-of-type {\n",
              "        vertical-align: middle;\n",
              "    }\n",
              "\n",
              "    .dataframe tbody tr th {\n",
              "        vertical-align: top;\n",
              "    }\n",
              "\n",
              "    .dataframe thead th {\n",
              "        text-align: right;\n",
              "    }\n",
              "</style>\n",
              "<table border=\"1\" class=\"dataframe\">\n",
              "  <thead>\n",
              "    <tr style=\"text-align: right;\">\n",
              "      <th></th>\n",
              "      <th>Saldo Anterior</th>\n",
              "      <th>Débito</th>\n",
              "      <th>Crédito</th>\n",
              "      <th>Saldo Atual</th>\n",
              "      <th>Flag_AT</th>\n",
              "      <th>Flag_FA</th>\n",
              "      <th>Flag_PAS</th>\n",
              "      <th>DB/CR_CR</th>\n",
              "      <th>DB/CR_DB</th>\n",
              "      <th>DB/CR Saldo Atual_</th>\n",
              "    </tr>\n",
              "  </thead>\n",
              "  <tbody>\n",
              "    <tr>\n",
              "      <th>0</th>\n",
              "      <td>4.613100e+08</td>\n",
              "      <td>2.173464e+08</td>\n",
              "      <td>2.096699e+08</td>\n",
              "      <td>4.689865e+08</td>\n",
              "      <td>1</td>\n",
              "      <td>0</td>\n",
              "      <td>0</td>\n",
              "      <td>0</td>\n",
              "      <td>1</td>\n",
              "      <td>0</td>\n",
              "    </tr>\n",
              "    <tr>\n",
              "      <th>1</th>\n",
              "      <td>1.161261e+08</td>\n",
              "      <td>1.982429e+08</td>\n",
              "      <td>1.981336e+08</td>\n",
              "      <td>1.162355e+08</td>\n",
              "      <td>1</td>\n",
              "      <td>0</td>\n",
              "      <td>0</td>\n",
              "      <td>0</td>\n",
              "      <td>1</td>\n",
              "      <td>0</td>\n",
              "    </tr>\n",
              "    <tr>\n",
              "      <th>2</th>\n",
              "      <td>1.138802e+07</td>\n",
              "      <td>1.373265e+08</td>\n",
              "      <td>1.347340e+08</td>\n",
              "      <td>1.398055e+07</td>\n",
              "      <td>1</td>\n",
              "      <td>0</td>\n",
              "      <td>0</td>\n",
              "      <td>0</td>\n",
              "      <td>1</td>\n",
              "      <td>0</td>\n",
              "    </tr>\n",
              "    <tr>\n",
              "      <th>3</th>\n",
              "      <td>3.878516e+06</td>\n",
              "      <td>1.015352e+08</td>\n",
              "      <td>1.033109e+08</td>\n",
              "      <td>2.102801e+06</td>\n",
              "      <td>1</td>\n",
              "      <td>0</td>\n",
              "      <td>0</td>\n",
              "      <td>0</td>\n",
              "      <td>1</td>\n",
              "      <td>1</td>\n",
              "    </tr>\n",
              "    <tr>\n",
              "      <th>4</th>\n",
              "      <td>0.000000e+00</td>\n",
              "      <td>1.605298e+07</td>\n",
              "      <td>1.605298e+07</td>\n",
              "      <td>0.000000e+00</td>\n",
              "      <td>1</td>\n",
              "      <td>0</td>\n",
              "      <td>0</td>\n",
              "      <td>0</td>\n",
              "      <td>0</td>\n",
              "      <td>0</td>\n",
              "    </tr>\n",
              "    <tr>\n",
              "      <th>...</th>\n",
              "      <td>...</td>\n",
              "      <td>...</td>\n",
              "      <td>...</td>\n",
              "      <td>...</td>\n",
              "      <td>...</td>\n",
              "      <td>...</td>\n",
              "      <td>...</td>\n",
              "      <td>...</td>\n",
              "      <td>...</td>\n",
              "      <td>...</td>\n",
              "    </tr>\n",
              "    <tr>\n",
              "      <th>461</th>\n",
              "      <td>0.000000e+00</td>\n",
              "      <td>NaN</td>\n",
              "      <td>NaN</td>\n",
              "      <td>0.000000e+00</td>\n",
              "      <td>0</td>\n",
              "      <td>0</td>\n",
              "      <td>0</td>\n",
              "      <td>0</td>\n",
              "      <td>0</td>\n",
              "      <td>0</td>\n",
              "    </tr>\n",
              "    <tr>\n",
              "      <th>462</th>\n",
              "      <td>0.000000e+00</td>\n",
              "      <td>NaN</td>\n",
              "      <td>NaN</td>\n",
              "      <td>0.000000e+00</td>\n",
              "      <td>0</td>\n",
              "      <td>0</td>\n",
              "      <td>0</td>\n",
              "      <td>0</td>\n",
              "      <td>0</td>\n",
              "      <td>0</td>\n",
              "    </tr>\n",
              "    <tr>\n",
              "      <th>463</th>\n",
              "      <td>0.000000e+00</td>\n",
              "      <td>NaN</td>\n",
              "      <td>NaN</td>\n",
              "      <td>0.000000e+00</td>\n",
              "      <td>0</td>\n",
              "      <td>0</td>\n",
              "      <td>0</td>\n",
              "      <td>0</td>\n",
              "      <td>0</td>\n",
              "      <td>0</td>\n",
              "    </tr>\n",
              "    <tr>\n",
              "      <th>464</th>\n",
              "      <td>0.000000e+00</td>\n",
              "      <td>NaN</td>\n",
              "      <td>NaN</td>\n",
              "      <td>0.000000e+00</td>\n",
              "      <td>0</td>\n",
              "      <td>0</td>\n",
              "      <td>0</td>\n",
              "      <td>0</td>\n",
              "      <td>0</td>\n",
              "      <td>0</td>\n",
              "    </tr>\n",
              "    <tr>\n",
              "      <th>465</th>\n",
              "      <td>0.000000e+00</td>\n",
              "      <td>NaN</td>\n",
              "      <td>NaN</td>\n",
              "      <td>0.000000e+00</td>\n",
              "      <td>0</td>\n",
              "      <td>0</td>\n",
              "      <td>0</td>\n",
              "      <td>0</td>\n",
              "      <td>0</td>\n",
              "      <td>0</td>\n",
              "    </tr>\n",
              "  </tbody>\n",
              "</table>\n",
              "<p>466 rows × 10 columns</p>\n",
              "</div>\n",
              "      <button class=\"colab-df-convert\" onclick=\"convertToInteractive('df-705ab0f9-6ed2-4246-919a-9665ed3033f3')\"\n",
              "              title=\"Convert this dataframe to an interactive table.\"\n",
              "              style=\"display:none;\">\n",
              "        \n",
              "  <svg xmlns=\"http://www.w3.org/2000/svg\" height=\"24px\"viewBox=\"0 0 24 24\"\n",
              "       width=\"24px\">\n",
              "    <path d=\"M0 0h24v24H0V0z\" fill=\"none\"/>\n",
              "    <path d=\"M18.56 5.44l.94 2.06.94-2.06 2.06-.94-2.06-.94-.94-2.06-.94 2.06-2.06.94zm-11 1L8.5 8.5l.94-2.06 2.06-.94-2.06-.94L8.5 2.5l-.94 2.06-2.06.94zm10 10l.94 2.06.94-2.06 2.06-.94-2.06-.94-.94-2.06-.94 2.06-2.06.94z\"/><path d=\"M17.41 7.96l-1.37-1.37c-.4-.4-.92-.59-1.43-.59-.52 0-1.04.2-1.43.59L10.3 9.45l-7.72 7.72c-.78.78-.78 2.05 0 2.83L4 21.41c.39.39.9.59 1.41.59.51 0 1.02-.2 1.41-.59l7.78-7.78 2.81-2.81c.8-.78.8-2.07 0-2.86zM5.41 20L4 18.59l7.72-7.72 1.47 1.35L5.41 20z\"/>\n",
              "  </svg>\n",
              "      </button>\n",
              "      \n",
              "  <style>\n",
              "    .colab-df-container {\n",
              "      display:flex;\n",
              "      flex-wrap:wrap;\n",
              "      gap: 12px;\n",
              "    }\n",
              "\n",
              "    .colab-df-convert {\n",
              "      background-color: #E8F0FE;\n",
              "      border: none;\n",
              "      border-radius: 50%;\n",
              "      cursor: pointer;\n",
              "      display: none;\n",
              "      fill: #1967D2;\n",
              "      height: 32px;\n",
              "      padding: 0 0 0 0;\n",
              "      width: 32px;\n",
              "    }\n",
              "\n",
              "    .colab-df-convert:hover {\n",
              "      background-color: #E2EBFA;\n",
              "      box-shadow: 0px 1px 2px rgba(60, 64, 67, 0.3), 0px 1px 3px 1px rgba(60, 64, 67, 0.15);\n",
              "      fill: #174EA6;\n",
              "    }\n",
              "\n",
              "    [theme=dark] .colab-df-convert {\n",
              "      background-color: #3B4455;\n",
              "      fill: #D2E3FC;\n",
              "    }\n",
              "\n",
              "    [theme=dark] .colab-df-convert:hover {\n",
              "      background-color: #434B5C;\n",
              "      box-shadow: 0px 1px 3px 1px rgba(0, 0, 0, 0.15);\n",
              "      filter: drop-shadow(0px 1px 2px rgba(0, 0, 0, 0.3));\n",
              "      fill: #FFFFFF;\n",
              "    }\n",
              "  </style>\n",
              "\n",
              "      <script>\n",
              "        const buttonEl =\n",
              "          document.querySelector('#df-705ab0f9-6ed2-4246-919a-9665ed3033f3 button.colab-df-convert');\n",
              "        buttonEl.style.display =\n",
              "          google.colab.kernel.accessAllowed ? 'block' : 'none';\n",
              "\n",
              "        async function convertToInteractive(key) {\n",
              "          const element = document.querySelector('#df-705ab0f9-6ed2-4246-919a-9665ed3033f3');\n",
              "          const dataTable =\n",
              "            await google.colab.kernel.invokeFunction('convertToInteractive',\n",
              "                                                     [key], {});\n",
              "          if (!dataTable) return;\n",
              "\n",
              "          const docLinkHtml = 'Like what you see? Visit the ' +\n",
              "            '<a target=\"_blank\" href=https://colab.research.google.com/notebooks/data_table.ipynb>data table notebook</a>'\n",
              "            + ' to learn more about interactive tables.';\n",
              "          element.innerHTML = '';\n",
              "          dataTable['output_type'] = 'display_data';\n",
              "          await google.colab.output.renderOutput(dataTable, element);\n",
              "          const docLink = document.createElement('div');\n",
              "          docLink.innerHTML = docLinkHtml;\n",
              "          element.appendChild(docLink);\n",
              "        }\n",
              "      </script>\n",
              "    </div>\n",
              "  </div>\n",
              "  "
            ]
          },
          "metadata": {},
          "execution_count": 59
        }
      ]
    },
    {
      "cell_type": "code",
      "source": [
        "fa = FactorAnalyzer(n_factors=8, rotation='varimax')"
      ],
      "metadata": {
        "id": "sebLyC4I85BL"
      },
      "execution_count": 68,
      "outputs": []
    },
    {
      "cell_type": "code",
      "source": [
        "fa.fit(X)"
      ],
      "metadata": {
        "colab": {
          "base_uri": "https://localhost:8080/"
        },
        "id": "yJOqugEC9Ubn",
        "outputId": "bc91fc4f-0b04-4e28-eb7f-4d827a8d6a7e"
      },
      "execution_count": 69,
      "outputs": [
        {
          "output_type": "execute_result",
          "data": {
            "text/plain": [
              "FactorAnalyzer(n_factors=8, rotation='varimax', rotation_kwargs={})"
            ]
          },
          "metadata": {},
          "execution_count": 69
        }
      ]
    },
    {
      "cell_type": "code",
      "source": [
        "ev, v = fa.get_eigenvalues()\n",
        "ev"
      ],
      "metadata": {
        "colab": {
          "base_uri": "https://localhost:8080/"
        },
        "id": "KT_rO6NL9JpH",
        "outputId": "b04564df-f49b-4c29-9c66-6c6f5770a1a3"
      },
      "execution_count": 70,
      "outputs": [
        {
          "output_type": "execute_result",
          "data": {
            "text/plain": [
              "array([2.98935957e+00, 2.66332293e+00, 1.55476246e+00, 1.19003665e+00,\n",
              "       8.34411748e-01, 5.70259495e-01, 1.63776229e-01, 1.90349076e-02,\n",
              "       1.41042413e-02, 9.31764162e-04])"
            ]
          },
          "metadata": {},
          "execution_count": 70
        }
      ]
    },
    {
      "cell_type": "code",
      "source": [
        "plt.figure(figsize=(20,10))\n",
        "plt.scatter(range(1,X.shape[1]+1),ev)\n",
        "plt.plot(range(1,X.shape[1]+1),ev)\n",
        "plt.title('Scree Plot')\n",
        "plt.xlabel('Factors')\n",
        "plt.ylabel('Eigenvalue')\n",
        "\n",
        "plt.grid()\n",
        "plt.show()"
      ],
      "metadata": {
        "colab": {
          "base_uri": "https://localhost:8080/",
          "height": 593
        },
        "id": "L1R7B6SW9GL4",
        "outputId": "567d2179-d79b-4409-9a24-da80231c8de1"
      },
      "execution_count": 71,
      "outputs": [
        {
          "output_type": "display_data",
          "data": {
            "text/plain": [
              "<Figure size 1440x720 with 1 Axes>"
            ],
            "image/png": "[encoded data removed]"
          },
          "metadata": {
            "needs_background": "light"
          }
        }
      ]
    },
    {
      "cell_type": "code",
      "source": [
        "fa = FactorAnalyzer(n_factors=8, rotation=None)\n",
        "fa.fit(X)"
      ],
      "metadata": {
        "colab": {
          "base_uri": "https://localhost:8080/"
        },
        "id": "lkla7aWp-CiH",
        "outputId": "e131a217-6bdb-49cb-8094-00e09d942f5e"
      },
      "execution_count": 73,
      "outputs": [
        {
          "output_type": "execute_result",
          "data": {
            "text/plain": [
              "FactorAnalyzer(n_factors=8, rotation=None, rotation_kwargs={})"
            ]
          },
          "metadata": {},
          "execution_count": 73
        }
      ]
    },
    {
      "cell_type": "code",
      "source": [
        "L = fa.loadings_\n",
        "np.round(L,2)"
      ],
      "metadata": {
        "colab": {
          "base_uri": "https://localhost:8080/"
        },
        "id": "rij7KY9--HI7",
        "outputId": "7ec27f09-53a9-480d-c734-9345207131d1"
      },
      "execution_count": 74,
      "outputs": [
        {
          "output_type": "execute_result",
          "data": {
            "text/plain": [
              "array([[ 0.68,  0.46,  0.26, -0.49, -0.1 , -0.03, -0.01,  0.  ],\n",
              "       [ 0.76,  0.28, -0.19,  0.52, -0.15, -0.09,  0.  ,  0.07],\n",
              "       [ 0.77,  0.32, -0.17,  0.52, -0.03, -0.05, -0.  , -0.08],\n",
              "       [ 0.69,  0.46,  0.27, -0.49, -0.08, -0.02, -0.01, -0.  ],\n",
              "       [ 0.37, -0.4 , -0.73, -0.3 ,  0.16, -0.19,  0.04,  0.  ],\n",
              "       [ 0.07, -0.31,  0.89,  0.26,  0.11, -0.17,  0.02,  0.  ],\n",
              "       [-0.45,  0.74, -0.11,  0.06, -0.28,  0.36,  0.03, -0.  ],\n",
              "       [-0.4 ,  0.77, -0.01,  0.03,  0.21, -0.26,  0.25,  0.  ],\n",
              "       [ 0.45, -0.78,  0.09, -0.03, -0.22,  0.26,  0.24, -0.  ],\n",
              "       [ 0.4 ,  0.18,  0.04,  0.05,  0.6 ,  0.41, -0.  ,  0.01]])"
            ]
          },
          "metadata": {},
          "execution_count": 74
        }
      ]
    },
    {
      "cell_type": "code",
      "source": [
        "fa.get_factor_variance()"
      ],
      "metadata": {
        "colab": {
          "base_uri": "https://localhost:8080/"
        },
        "id": "xLrhdv4Z-J9j",
        "outputId": "2dabe046-60b5-40d3-854e-034f31b9f9ba"
      },
      "execution_count": 75,
      "outputs": [
        {
          "output_type": "execute_result",
          "data": {
            "text/plain": [
              "(array([2.96233338, 2.63352801, 1.54606471, 1.18324856, 0.60614533,\n",
              "        0.51592521, 0.12242483, 0.0118163 ]),\n",
              " array([0.29623334, 0.2633528 , 0.15460647, 0.11832486, 0.06061453,\n",
              "        0.05159252, 0.01224248, 0.00118163]),\n",
              " array([0.29623334, 0.55958614, 0.71419261, 0.83251747, 0.893132  ,\n",
              "        0.94472452, 0.956967  , 0.95814863]))"
            ]
          },
          "metadata": {},
          "execution_count": 75
        }
      ]
    },
    {
      "cell_type": "code",
      "source": [
        "fa = FactorAnalyzer(n_factors=8, rotation='varimax')\n",
        "fa.fit(X)"
      ],
      "metadata": {
        "colab": {
          "base_uri": "https://localhost:8080/"
        },
        "id": "274_PT2P-K6d",
        "outputId": "77f4a0fe-b6fe-47a9-9026-abdce0c1f798"
      },
      "execution_count": 78,
      "outputs": [
        {
          "output_type": "execute_result",
          "data": {
            "text/plain": [
              "FactorAnalyzer(n_factors=8, rotation='varimax', rotation_kwargs={})"
            ]
          },
          "metadata": {},
          "execution_count": 78
        }
      ]
    },
    {
      "cell_type": "code",
      "source": [
        "L = pd.DataFrame(fa.loadings_)\n",
        "np.round(L,2)\n",
        "L.index = X.columns\n",
        "L.columns = ['FA1','FA2','FA3','FA4','FA5','FA6','FA7','FA8']\n",
        "L"
      ],
      "metadata": {
        "colab": {
          "base_uri": "https://localhost:8080/",
          "height": 363
        },
        "id": "RpoX8VRc-NGT",
        "outputId": "97da4956-0476-4e94-f81d-aaf3d50e5fd6"
      },
      "execution_count": 79,
      "outputs": [
        {
          "output_type": "execute_result",
          "data": {
            "text/plain": [
              "                           FA1       FA2       FA3       FA4       FA5  \\\n",
              "Saldo Anterior       -0.016772  0.976748  0.181743 -0.000476  0.000606   \n",
              "Débito                0.056408  0.179132  0.973206 -0.048615  0.016218   \n",
              "Crédito               0.014273  0.191555  0.956804 -0.034368  0.035097   \n",
              "Saldo Atual          -0.018366  0.974056  0.179839  0.010823  0.006730   \n",
              "Flag_AT               0.261192  0.001849  0.073767 -0.768618  0.564708   \n",
              "Flag_FA               0.181473  0.011469 -0.039737  0.940971  0.271715   \n",
              "Flag_PAS             -0.459817 -0.007918 -0.034455 -0.130822 -0.863706   \n",
              "DB/CR_CR             -0.904452  0.043072 -0.030646  0.018977 -0.216264   \n",
              "DB/CR_DB              0.936008  0.004210  0.042565  0.055411  0.215674   \n",
              "DB/CR Saldo Atual_    0.001012  0.159144  0.171268  0.003002  0.029436   \n",
              "\n",
              "                           FA6       FA7       FA8  \n",
              "Saldo Anterior        0.098457  0.003338 -0.001297  \n",
              "Débito                0.065893  0.003054 -0.074988  \n",
              "Crédito               0.183979 -0.001472  0.079785  \n",
              "Saldo Atual           0.124314  0.000855  0.001703  \n",
              "Flag_AT               0.024760  0.046022  0.000297  \n",
              "Flag_FA               0.017071  0.028539  0.000346  \n",
              "Flag_PAS             -0.042619  0.008411 -0.000294  \n",
              "DB/CR_CR              0.005259  0.238149  0.000274  \n",
              "DB/CR_DB              0.005346  0.252443 -0.000703  \n",
              "DB/CR Saldo Atual_    0.816750  0.000584  0.000591  "
            ],
            "text/html": [
              "\n",
              "  <div id=\"df-efe175c2-c9da-4005-aaf6-d171dbdb20b5\">\n",
              "    <div class=\"colab-df-container\">\n",
              "      <div>\n",
              "<style scoped>\n",
              "    .dataframe tbody tr th:only-of-type {\n",
              "        vertical-align: middle;\n",
              "    }\n",
              "\n",
              "    .dataframe tbody tr th {\n",
              "        vertical-align: top;\n",
              "    }\n",
              "\n",
              "    .dataframe thead th {\n",
              "        text-align: right;\n",
              "    }\n",
              "</style>\n",
              "<table border=\"1\" class=\"dataframe\">\n",
              "  <thead>\n",
              "    <tr style=\"text-align: right;\">\n",
              "      <th></th>\n",
              "      <th>FA1</th>\n",
              "      <th>FA2</th>\n",
              "      <th>FA3</th>\n",
              "      <th>FA4</th>\n",
              "      <th>FA5</th>\n",
              "      <th>FA6</th>\n",
              "      <th>FA7</th>\n",
              "      <th>FA8</th>\n",
              "    </tr>\n",
              "  </thead>\n",
              "  <tbody>\n",
              "    <tr>\n",
              "      <th>Saldo Anterior</th>\n",
              "      <td>-0.016772</td>\n",
              "      <td>0.976748</td>\n",
              "      <td>0.181743</td>\n",
              "      <td>-0.000476</td>\n",
              "      <td>0.000606</td>\n",
              "      <td>0.098457</td>\n",
              "      <td>0.003338</td>\n",
              "      <td>-0.001297</td>\n",
              "    </tr>\n",
              "    <tr>\n",
              "      <th>Débito</th>\n",
              "      <td>0.056408</td>\n",
              "      <td>0.179132</td>\n",
              "      <td>0.973206</td>\n",
              "      <td>-0.048615</td>\n",
              "      <td>0.016218</td>\n",
              "      <td>0.065893</td>\n",
              "      <td>0.003054</td>\n",
              "      <td>-0.074988</td>\n",
              "    </tr>\n",
              "    <tr>\n",
              "      <th>Crédito</th>\n",
              "      <td>0.014273</td>\n",
              "      <td>0.191555</td>\n",
              "      <td>0.956804</td>\n",
              "      <td>-0.034368</td>\n",
              "      <td>0.035097</td>\n",
              "      <td>0.183979</td>\n",
              "      <td>-0.001472</td>\n",
              "      <td>0.079785</td>\n",
              "    </tr>\n",
              "    <tr>\n",
              "      <th>Saldo Atual</th>\n",
              "      <td>-0.018366</td>\n",
              "      <td>0.974056</td>\n",
              "      <td>0.179839</td>\n",
              "      <td>0.010823</td>\n",
              "      <td>0.006730</td>\n",
              "      <td>0.124314</td>\n",
              "      <td>0.000855</td>\n",
              "      <td>0.001703</td>\n",
              "    </tr>\n",
              "    <tr>\n",
              "      <th>Flag_AT</th>\n",
              "      <td>0.261192</td>\n",
              "      <td>0.001849</td>\n",
              "      <td>0.073767</td>\n",
              "      <td>-0.768618</td>\n",
              "      <td>0.564708</td>\n",
              "      <td>0.024760</td>\n",
              "      <td>0.046022</td>\n",
              "      <td>0.000297</td>\n",
              "    </tr>\n",
              "    <tr>\n",
              "      <th>Flag_FA</th>\n",
              "      <td>0.181473</td>\n",
              "      <td>0.011469</td>\n",
              "      <td>-0.039737</td>\n",
              "      <td>0.940971</td>\n",
              "      <td>0.271715</td>\n",
              "      <td>0.017071</td>\n",
              "      <td>0.028539</td>\n",
              "      <td>0.000346</td>\n",
              "    </tr>\n",
              "    <tr>\n",
              "      <th>Flag_PAS</th>\n",
              "      <td>-0.459817</td>\n",
              "      <td>-0.007918</td>\n",
              "      <td>-0.034455</td>\n",
              "      <td>-0.130822</td>\n",
              "      <td>-0.863706</td>\n",
              "      <td>-0.042619</td>\n",
              "      <td>0.008411</td>\n",
              "      <td>-0.000294</td>\n",
              "    </tr>\n",
              "    <tr>\n",
              "      <th>DB/CR_CR</th>\n",
              "      <td>-0.904452</td>\n",
              "      <td>0.043072</td>\n",
              "      <td>-0.030646</td>\n",
              "      <td>0.018977</td>\n",
              "      <td>-0.216264</td>\n",
              "      <td>0.005259</td>\n",
              "      <td>0.238149</td>\n",
              "      <td>0.000274</td>\n",
              "    </tr>\n",
              "    <tr>\n",
              "      <th>DB/CR_DB</th>\n",
              "      <td>0.936008</td>\n",
              "      <td>0.004210</td>\n",
              "      <td>0.042565</td>\n",
              "      <td>0.055411</td>\n",
              "      <td>0.215674</td>\n",
              "      <td>0.005346</td>\n",
              "      <td>0.252443</td>\n",
              "      <td>-0.000703</td>\n",
              "    </tr>\n",
              "    <tr>\n",
              "      <th>DB/CR Saldo Atual_</th>\n",
              "      <td>0.001012</td>\n",
              "      <td>0.159144</td>\n",
              "      <td>0.171268</td>\n",
              "      <td>0.003002</td>\n",
              "      <td>0.029436</td>\n",
              "      <td>0.816750</td>\n",
              "      <td>0.000584</td>\n",
              "      <td>0.000591</td>\n",
              "    </tr>\n",
              "  </tbody>\n",
              "</table>\n",
              "</div>\n",
              "      <button class=\"colab-df-convert\" onclick=\"convertToInteractive('df-efe175c2-c9da-4005-aaf6-d171dbdb20b5')\"\n",
              "              title=\"Convert this dataframe to an interactive table.\"\n",
              "              style=\"display:none;\">\n",
              "        \n",
              "  <svg xmlns=\"http://www.w3.org/2000/svg\" height=\"24px\"viewBox=\"0 0 24 24\"\n",
              "       width=\"24px\">\n",
              "    <path d=\"M0 0h24v24H0V0z\" fill=\"none\"/>\n",
              "    <path d=\"M18.56 5.44l.94 2.06.94-2.06 2.06-.94-2.06-.94-.94-2.06-.94 2.06-2.06.94zm-11 1L8.5 8.5l.94-2.06 2.06-.94-2.06-.94L8.5 2.5l-.94 2.06-2.06.94zm10 10l.94 2.06.94-2.06 2.06-.94-2.06-.94-.94-2.06-.94 2.06-2.06.94z\"/><path d=\"M17.41 7.96l-1.37-1.37c-.4-.4-.92-.59-1.43-.59-.52 0-1.04.2-1.43.59L10.3 9.45l-7.72 7.72c-.78.78-.78 2.05 0 2.83L4 21.41c.39.39.9.59 1.41.59.51 0 1.02-.2 1.41-.59l7.78-7.78 2.81-2.81c.8-.78.8-2.07 0-2.86zM5.41 20L4 18.59l7.72-7.72 1.47 1.35L5.41 20z\"/>\n",
              "  </svg>\n",
              "      </button>\n",
              "      \n",
              "  <style>\n",
              "    .colab-df-container {\n",
              "      display:flex;\n",
              "      flex-wrap:wrap;\n",
              "      gap: 12px;\n",
              "    }\n",
              "\n",
              "    .colab-df-convert {\n",
              "      background-color: #E8F0FE;\n",
              "      border: none;\n",
              "      border-radius: 50%;\n",
              "      cursor: pointer;\n",
              "      display: none;\n",
              "      fill: #1967D2;\n",
              "      height: 32px;\n",
              "      padding: 0 0 0 0;\n",
              "      width: 32px;\n",
              "    }\n",
              "\n",
              "    .colab-df-convert:hover {\n",
              "      background-color: #E2EBFA;\n",
              "      box-shadow: 0px 1px 2px rgba(60, 64, 67, 0.3), 0px 1px 3px 1px rgba(60, 64, 67, 0.15);\n",
              "      fill: #174EA6;\n",
              "    }\n",
              "\n",
              "    [theme=dark] .colab-df-convert {\n",
              "      background-color: #3B4455;\n",
              "      fill: #D2E3FC;\n",
              "    }\n",
              "\n",
              "    [theme=dark] .colab-df-convert:hover {\n",
              "      background-color: #434B5C;\n",
              "      box-shadow: 0px 1px 3px 1px rgba(0, 0, 0, 0.15);\n",
              "      filter: drop-shadow(0px 1px 2px rgba(0, 0, 0, 0.3));\n",
              "      fill: #FFFFFF;\n",
              "    }\n",
              "  </style>\n",
              "\n",
              "      <script>\n",
              "        const buttonEl =\n",
              "          document.querySelector('#df-efe175c2-c9da-4005-aaf6-d171dbdb20b5 button.colab-df-convert');\n",
              "        buttonEl.style.display =\n",
              "          google.colab.kernel.accessAllowed ? 'block' : 'none';\n",
              "\n",
              "        async function convertToInteractive(key) {\n",
              "          const element = document.querySelector('#df-efe175c2-c9da-4005-aaf6-d171dbdb20b5');\n",
              "          const dataTable =\n",
              "            await google.colab.kernel.invokeFunction('convertToInteractive',\n",
              "                                                     [key], {});\n",
              "          if (!dataTable) return;\n",
              "\n",
              "          const docLinkHtml = 'Like what you see? Visit the ' +\n",
              "            '<a target=\"_blank\" href=https://colab.research.google.com/notebooks/data_table.ipynb>data table notebook</a>'\n",
              "            + ' to learn more about interactive tables.';\n",
              "          element.innerHTML = '';\n",
              "          dataTable['output_type'] = 'display_data';\n",
              "          await google.colab.output.renderOutput(dataTable, element);\n",
              "          const docLink = document.createElement('div');\n",
              "          docLink.innerHTML = docLinkHtml;\n",
              "          element.appendChild(docLink);\n",
              "        }\n",
              "      </script>\n",
              "    </div>\n",
              "  </div>\n",
              "  "
            ]
          },
          "metadata": {},
          "execution_count": 79
        }
      ]
    }
  ]
}